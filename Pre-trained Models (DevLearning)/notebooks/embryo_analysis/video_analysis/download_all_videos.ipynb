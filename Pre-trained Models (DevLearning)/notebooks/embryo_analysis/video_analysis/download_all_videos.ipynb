{
  "nbformat": 4,
  "nbformat_minor": 0,
  "metadata": {
    "colab": {
      "name": "download_all_videos.ipynb",
      "provenance": []
    },
    "kernelspec": {
      "name": "python3",
      "display_name": "Python 3"
    },
    "widgets": {
      "application/vnd.jupyter.widget-state+json": {
        "24a849d57fda4c1b81268bb914bdabbd": {
          "model_module": "@jupyter-widgets/controls",
          "model_name": "HBoxModel",
          "state": {
            "_view_name": "HBoxView",
            "_dom_classes": [],
            "_model_name": "HBoxModel",
            "_view_module": "@jupyter-widgets/controls",
            "_model_module_version": "1.5.0",
            "_view_count": null,
            "_view_module_version": "1.5.0",
            "box_style": "",
            "layout": "IPY_MODEL_388730311eba496897ec65063019ac61",
            "_model_module": "@jupyter-widgets/controls",
            "children": [
              "IPY_MODEL_2b50547bb7fc47a7af57b7feddc623ce",
              "IPY_MODEL_a76197862f8c4db38aa70945e50f4d75"
            ]
          }
        },
        "388730311eba496897ec65063019ac61": {
          "model_module": "@jupyter-widgets/base",
          "model_name": "LayoutModel",
          "state": {
            "_view_name": "LayoutView",
            "grid_template_rows": null,
            "right": null,
            "justify_content": null,
            "_view_module": "@jupyter-widgets/base",
            "overflow": null,
            "_model_module_version": "1.2.0",
            "_view_count": null,
            "flex_flow": null,
            "width": null,
            "min_width": null,
            "border": null,
            "align_items": null,
            "bottom": null,
            "_model_module": "@jupyter-widgets/base",
            "top": null,
            "grid_column": null,
            "overflow_y": null,
            "overflow_x": null,
            "grid_auto_flow": null,
            "grid_area": null,
            "grid_template_columns": null,
            "flex": null,
            "_model_name": "LayoutModel",
            "justify_items": null,
            "grid_row": null,
            "max_height": null,
            "align_content": null,
            "visibility": null,
            "align_self": null,
            "height": null,
            "min_height": null,
            "padding": null,
            "grid_auto_rows": null,
            "grid_gap": null,
            "max_width": null,
            "order": null,
            "_view_module_version": "1.2.0",
            "grid_template_areas": null,
            "object_position": null,
            "object_fit": null,
            "grid_auto_columns": null,
            "margin": null,
            "display": null,
            "left": null
          }
        },
        "2b50547bb7fc47a7af57b7feddc623ce": {
          "model_module": "@jupyter-widgets/controls",
          "model_name": "FloatProgressModel",
          "state": {
            "_view_name": "ProgressView",
            "style": "IPY_MODEL_4101175fa6c644128a52f074e30726f5",
            "_dom_classes": [],
            "description": "100%",
            "_model_name": "FloatProgressModel",
            "bar_style": "success",
            "max": 260,
            "_view_module": "@jupyter-widgets/controls",
            "_model_module_version": "1.5.0",
            "value": 260,
            "_view_count": null,
            "_view_module_version": "1.5.0",
            "orientation": "horizontal",
            "min": 0,
            "description_tooltip": null,
            "_model_module": "@jupyter-widgets/controls",
            "layout": "IPY_MODEL_48cbfde22209428cb16040dbab9ec292"
          }
        },
        "a76197862f8c4db38aa70945e50f4d75": {
          "model_module": "@jupyter-widgets/controls",
          "model_name": "HTMLModel",
          "state": {
            "_view_name": "HTMLView",
            "style": "IPY_MODEL_2960a3da783248699ced1f0dafd6ebf0",
            "_dom_classes": [],
            "description": "",
            "_model_name": "HTMLModel",
            "placeholder": "​",
            "_view_module": "@jupyter-widgets/controls",
            "_model_module_version": "1.5.0",
            "value": " 260/260 [03:37&lt;00:00,  1.20it/s]",
            "_view_count": null,
            "_view_module_version": "1.5.0",
            "description_tooltip": null,
            "_model_module": "@jupyter-widgets/controls",
            "layout": "IPY_MODEL_7432a37a505a4fc2af4b01e8dc13015a"
          }
        },
        "4101175fa6c644128a52f074e30726f5": {
          "model_module": "@jupyter-widgets/controls",
          "model_name": "ProgressStyleModel",
          "state": {
            "_view_name": "StyleView",
            "_model_name": "ProgressStyleModel",
            "description_width": "initial",
            "_view_module": "@jupyter-widgets/base",
            "_model_module_version": "1.5.0",
            "_view_count": null,
            "_view_module_version": "1.2.0",
            "bar_color": null,
            "_model_module": "@jupyter-widgets/controls"
          }
        },
        "48cbfde22209428cb16040dbab9ec292": {
          "model_module": "@jupyter-widgets/base",
          "model_name": "LayoutModel",
          "state": {
            "_view_name": "LayoutView",
            "grid_template_rows": null,
            "right": null,
            "justify_content": null,
            "_view_module": "@jupyter-widgets/base",
            "overflow": null,
            "_model_module_version": "1.2.0",
            "_view_count": null,
            "flex_flow": null,
            "width": null,
            "min_width": null,
            "border": null,
            "align_items": null,
            "bottom": null,
            "_model_module": "@jupyter-widgets/base",
            "top": null,
            "grid_column": null,
            "overflow_y": null,
            "overflow_x": null,
            "grid_auto_flow": null,
            "grid_area": null,
            "grid_template_columns": null,
            "flex": null,
            "_model_name": "LayoutModel",
            "justify_items": null,
            "grid_row": null,
            "max_height": null,
            "align_content": null,
            "visibility": null,
            "align_self": null,
            "height": null,
            "min_height": null,
            "padding": null,
            "grid_auto_rows": null,
            "grid_gap": null,
            "max_width": null,
            "order": null,
            "_view_module_version": "1.2.0",
            "grid_template_areas": null,
            "object_position": null,
            "object_fit": null,
            "grid_auto_columns": null,
            "margin": null,
            "display": null,
            "left": null
          }
        },
        "2960a3da783248699ced1f0dafd6ebf0": {
          "model_module": "@jupyter-widgets/controls",
          "model_name": "DescriptionStyleModel",
          "state": {
            "_view_name": "StyleView",
            "_model_name": "DescriptionStyleModel",
            "description_width": "",
            "_view_module": "@jupyter-widgets/base",
            "_model_module_version": "1.5.0",
            "_view_count": null,
            "_view_module_version": "1.2.0",
            "_model_module": "@jupyter-widgets/controls"
          }
        },
        "7432a37a505a4fc2af4b01e8dc13015a": {
          "model_module": "@jupyter-widgets/base",
          "model_name": "LayoutModel",
          "state": {
            "_view_name": "LayoutView",
            "grid_template_rows": null,
            "right": null,
            "justify_content": null,
            "_view_module": "@jupyter-widgets/base",
            "overflow": null,
            "_model_module_version": "1.2.0",
            "_view_count": null,
            "flex_flow": null,
            "width": null,
            "min_width": null,
            "border": null,
            "align_items": null,
            "bottom": null,
            "_model_module": "@jupyter-widgets/base",
            "top": null,
            "grid_column": null,
            "overflow_y": null,
            "overflow_x": null,
            "grid_auto_flow": null,
            "grid_area": null,
            "grid_template_columns": null,
            "flex": null,
            "_model_name": "LayoutModel",
            "justify_items": null,
            "grid_row": null,
            "max_height": null,
            "align_content": null,
            "visibility": null,
            "align_self": null,
            "height": null,
            "min_height": null,
            "padding": null,
            "grid_auto_rows": null,
            "grid_gap": null,
            "max_width": null,
            "order": null,
            "_view_module_version": "1.2.0",
            "grid_template_areas": null,
            "object_position": null,
            "object_fit": null,
            "grid_auto_columns": null,
            "margin": null,
            "display": null,
            "left": null
          }
        }
      }
    }
  },
  "cells": [
    {
      "cell_type": "code",
      "metadata": {
        "id": "XYw090ijVh0S",
        "colab_type": "code",
        "colab": {}
      },
      "source": [
        "import os\n",
        "import wget\n",
        "import sys\n",
        "import shutil\n",
        "import pandas as pd\n",
        "from tqdm.notebook import tqdm"
      ],
      "execution_count": null,
      "outputs": []
    },
    {
      "cell_type": "markdown",
      "metadata": {
        "id": "Qn3cM3Vktnfu",
        "colab_type": "text"
      },
      "source": [
        "All the csv files can be download at once from [here](http://epic.gs.washington.edu/bulkacce.html)"
      ]
    },
    {
      "cell_type": "code",
      "metadata": {
        "id": "E_8nfHxp5j2t",
        "colab_type": "code",
        "colab": {}
      },
      "source": [
        "names = os.listdir(\"zipped_CD_Files\")\n",
        "smol_names = [i[2:-4] for i in names]"
      ],
      "execution_count": null,
      "outputs": []
    },
    {
      "cell_type": "code",
      "metadata": {
        "id": "E9thvSIp5sfg",
        "colab_type": "code",
        "colab": {}
      },
      "source": [
        "pre =\"http://epic.gs.washington.edu/mov/\"\n",
        "suf = \".mov\""
      ],
      "execution_count": null,
      "outputs": []
    },
    {
      "cell_type": "code",
      "metadata": {
        "id": "Zq4aRdW15t0E",
        "colab_type": "code",
        "colab": {}
      },
      "source": [
        "urls = pd.DataFrame([pre + smol_names[i] + suf for i in range (len(smol_names))])\n",
        "urls.columns = [\"url\"]\n",
        "urls.head()"
      ],
      "execution_count": null,
      "outputs": []
    },
    {
      "cell_type": "code",
      "metadata": {
        "id": "ABGUKpac52K5",
        "colab_type": "code",
        "colab": {
          "base_uri": "https://localhost:8080/",
          "height": 191
        },
        "outputId": "d9407aa1-9945-458a-cba2-a914fdc992b0"
      },
      "source": [
        "download_urls = pd.read_csv(\"urls.csv\")\n",
        "download_urls.head()"
      ],
      "execution_count": null,
      "outputs": [
        {
          "output_type": "execute_result",
          "data": {
            "text/html": [
              "<div>\n",
              "<style scoped>\n",
              "    .dataframe tbody tr th:only-of-type {\n",
              "        vertical-align: middle;\n",
              "    }\n",
              "\n",
              "    .dataframe tbody tr th {\n",
              "        vertical-align: top;\n",
              "    }\n",
              "\n",
              "    .dataframe thead th {\n",
              "        text-align: right;\n",
              "    }\n",
              "</style>\n",
              "<table border=\"1\" class=\"dataframe\">\n",
              "  <thead>\n",
              "    <tr style=\"text-align: right;\">\n",
              "      <th></th>\n",
              "      <th>url</th>\n",
              "    </tr>\n",
              "  </thead>\n",
              "  <tbody>\n",
              "    <tr>\n",
              "      <th>0</th>\n",
              "      <td>http://epic.gs.washington.edu/mov/20070801_hnd...</td>\n",
              "    </tr>\n",
              "    <tr>\n",
              "      <th>1</th>\n",
              "      <td>http://epic.gs.washington.edu/mov/20090806_F58...</td>\n",
              "    </tr>\n",
              "    <tr>\n",
              "      <th>2</th>\n",
              "      <td>http://epic.gs.washington.edu/mov/20080501_dsl...</td>\n",
              "    </tr>\n",
              "    <tr>\n",
              "      <th>3</th>\n",
              "      <td>http://epic.gs.washington.edu/mov/20090217_eor...</td>\n",
              "    </tr>\n",
              "    <tr>\n",
              "      <th>4</th>\n",
              "      <td>http://epic.gs.washington.edu/mov/20090312_nhr...</td>\n",
              "    </tr>\n",
              "  </tbody>\n",
              "</table>\n",
              "</div>"
            ],
            "text/plain": [
              "                                                 url\n",
              "0  http://epic.gs.washington.edu/mov/20070801_hnd...\n",
              "1  http://epic.gs.washington.edu/mov/20090806_F58...\n",
              "2  http://epic.gs.washington.edu/mov/20080501_dsl...\n",
              "3  http://epic.gs.washington.edu/mov/20090217_eor...\n",
              "4  http://epic.gs.washington.edu/mov/20090312_nhr..."
            ]
          },
          "metadata": {
            "tags": []
          },
          "execution_count": 5
        }
      ]
    },
    {
      "cell_type": "code",
      "metadata": {
        "id": "fWAd0hyR569o",
        "colab_type": "code",
        "colab": {}
      },
      "source": [
        "def bar_progress(current, total, width=80):\n",
        "    progress_message = \"Downloading: %d%% \" % (current / total * 100)\n",
        "    # Don't use print() as it will print in new line every time.\n",
        "    sys.stdout.write(\"\\r\" + progress_message)\n",
        "    sys.stdout.flush()"
      ],
      "execution_count": null,
      "outputs": []
    },
    {
      "cell_type": "code",
      "metadata": {
        "id": "zowydFn859sM",
        "colab_type": "code",
        "colab": {
          "base_uri": "https://localhost:8080/",
          "height": 101,
          "referenced_widgets": [
            "24a849d57fda4c1b81268bb914bdabbd",
            "388730311eba496897ec65063019ac61",
            "2b50547bb7fc47a7af57b7feddc623ce",
            "a76197862f8c4db38aa70945e50f4d75",
            "4101175fa6c644128a52f074e30726f5",
            "48cbfde22209428cb16040dbab9ec292",
            "2960a3da783248699ced1f0dafd6ebf0",
            "7432a37a505a4fc2af4b01e8dc13015a"
          ]
        },
        "outputId": "9d8df2a1-b1a5-460b-f5ce-9726cb409b2f"
      },
      "source": [
        "# shutil.rmtree(\"videos\")\n",
        "!mkdir videos\n",
        "foldername = \"videos\"\n",
        "\n",
        "for i in tqdm (range  (len(download_urls.values.flatten()))):\n",
        "    url = download_urls.values.flatten()[i]\n",
        "    \n",
        "    savename = foldername + \"/\" + url[34:-4] + \".mov\"\n",
        "#     print(url, savename)\n",
        "    try:        \n",
        "        wget.download(url, savename, bar = bar_progress)\n",
        "    except:\n",
        "        print(\"url not found, skipped one video\")\n",
        "        continue\n",
        "print(\"downloaded in -- \", foldername)"
      ],
      "execution_count": null,
      "outputs": [
        {
          "output_type": "stream",
          "text": [
            "mkdir: cannot create directory ‘videos’: File exists\n"
          ],
          "name": "stdout"
        },
        {
          "output_type": "display_data",
          "data": {
            "application/vnd.jupyter.widget-view+json": {
              "model_id": "24a849d57fda4c1b81268bb914bdabbd",
              "version_minor": 0,
              "version_major": 2
            },
            "text/plain": [
              "HBox(children=(FloatProgress(value=0.0, max=260.0), HTML(value='')))"
            ]
          },
          "metadata": {
            "tags": []
          }
        },
        {
          "output_type": "stream",
          "text": [
            "Downloading: 100% \n",
            "downloaded in --  videos\n"
          ],
          "name": "stdout"
        }
      ]
    },
    {
      "cell_type": "code",
      "metadata": {
        "id": "Keov4F347ZGl",
        "colab_type": "code",
        "colab": {}
      },
      "source": [
        "!zip -r epic_dataset_videos.zip videos"
      ],
      "execution_count": null,
      "outputs": []
    },
    {
      "cell_type": "code",
      "metadata": {
        "id": "z_SsgonY78I2",
        "colab_type": "code",
        "colab": {}
      },
      "source": [
        "!cp epic_dataset_videos.zip /content/drive/\"My Drive\"/epic_dataset_videos/"
      ],
      "execution_count": null,
      "outputs": []
    }
  ]
}