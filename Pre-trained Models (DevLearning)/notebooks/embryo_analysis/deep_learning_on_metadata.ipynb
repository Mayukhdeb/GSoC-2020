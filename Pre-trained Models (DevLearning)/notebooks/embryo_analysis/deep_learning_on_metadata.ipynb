{
 "cells": [
  {
   "cell_type": "markdown",
   "metadata": {
    "colab_type": "text",
    "id": "Jl1q69zIhQF_"
   },
   "source": [
    "##  Objective: train a simple deep learning model to predict the lineage of a cell from it's position, size and time value. "
   ]
  },
  {
   "cell_type": "code",
   "execution_count": null,
   "metadata": {
    "colab": {
     "base_uri": "https://localhost:8080/",
     "height": 106
    },
    "colab_type": "code",
    "id": "L8-33_MY93Sb",
    "outputId": "7add8002-c0cf-4a85-d52d-0e54f558ea4b",
    "scrolled": true
   },
   "outputs": [],
   "source": [
    "## data science essentials \n",
    "import numpy as np\n",
    "import pandas as pd\n",
    "import matplotlib.pyplot as plt\n",
    "\n",
    "## deep learning utils\n",
    "import torch\n",
    "import torch.nn as nn\n",
    "import torch.nn.functional as F\n",
    "import torch.optim as optim\n",
    "from torch.utils.data import DataLoader\n",
    "from torch.utils.data import Dataset, TensorDataset\n",
    "from torch.utils.data.dataset import random_split\n",
    "from torch.optim.lr_scheduler import ReduceLROnPlateau\n",
    "\n",
    "## Extra tools for smoothening curves,etc\n",
    "from imblearn.over_sampling import RandomOverSampler\n",
    "from scipy.ndimage.filters import gaussian_filter1d   ## smoother\n",
    "from sklearn.preprocessing import MinMaxScaler\n",
    "\n",
    "## notebook display\n",
    "from IPython.display import clear_output\n",
    "from tqdm.notebook import tqdm\n",
    "\n",
    "## path to load data from \n",
    "ROOT = \"/content/drive/My Drive/\""
   ]
  },
  {
   "cell_type": "markdown",
   "metadata": {
    "colab_type": "text",
    "id": "tDkwUzyfiMmw"
   },
   "source": [
    "## Loading up the training data \n",
    "* `x,y` specify the position of the cell, while `t` gives the time.\n",
    "* `cell` is the full name of the cell, while `compact_cellname` is a shortened version which only tells us about it's lineage."
   ]
  },
  {
   "cell_type": "code",
   "execution_count": 19,
   "metadata": {
    "colab": {
     "base_uri": "https://localhost:8080/",
     "height": 295
    },
    "colab_type": "code",
    "id": "nla4Fmk1-3bY",
    "outputId": "35c23922-df7d-4609-a03e-be97007ec125"
   },
   "outputs": [
    {
     "name": "stdout",
     "output_type": "stream",
     "text": [
      "<class 'pandas.core.frame.DataFrame'>\n",
      "RangeIndex: 8984 entries, 0 to 8983\n",
      "Data columns (total 8 columns):\n",
      " #   Column            Non-Null Count  Dtype  \n",
      "---  ------            --------------  -----  \n",
      " 0   cell              8984 non-null   object \n",
      " 1   time              8984 non-null   int64  \n",
      " 2   x                 8984 non-null   int64  \n",
      " 3   y                 8984 non-null   int64  \n",
      " 4   z                 8984 non-null   float64\n",
      " 5   size              8984 non-null   int64  \n",
      " 6   compact_cellname  8984 non-null   object \n",
      " 7   label             8984 non-null   int64  \n",
      "dtypes: float64(1), int64(5), object(2)\n",
      "memory usage: 561.6+ KB\n",
      "None\n"
     ]
    }
   ],
   "source": [
    "df = pd.read_csv(ROOT+ \"data/unc_training_data.csv\")\n",
    "print(df.info())"
   ]
  },
  {
   "cell_type": "code",
   "execution_count": 20,
   "metadata": {
    "colab": {
     "base_uri": "https://localhost:8080/",
     "height": 52
    },
    "colab_type": "code",
    "id": "ap3dIA2E--Sw",
    "outputId": "41245cd7-fb92-456d-f68e-c90674f0c529"
   },
   "outputs": [
    {
     "data": {
      "text/plain": [
       "array(['AB', 'EM', 'MS', 'E', 'Ea', 'Ep', 'P2', 'C', 'Ca', 'Cp', 'P3',\n",
       "       'D', 'Da', 'Dp', 'P4', 'Z2', 'Z3'], dtype=object)"
      ]
     },
     "execution_count": 20,
     "metadata": {
      "tags": []
     },
     "output_type": "execute_result"
    }
   ],
   "source": [
    "labels = df.compact_cellname.unique()\n",
    "labels"
   ]
  },
  {
   "cell_type": "markdown",
   "metadata": {
    "colab_type": "text",
    "id": "Z5lyDb_erMAs"
   },
   "source": [
    "### Viewing the new labels"
   ]
  },
  {
   "cell_type": "code",
   "execution_count": 21,
   "metadata": {
    "colab": {
     "base_uri": "https://localhost:8080/",
     "height": 175
    },
    "colab_type": "code",
    "id": "MtH_y5vi_FaO",
    "outputId": "8f21b091-a38c-488e-f1bf-e2afd0555d46"
   },
   "outputs": [
    {
     "data": {
      "text/html": [
       "<div>\n",
       "<style scoped>\n",
       "    .dataframe tbody tr th:only-of-type {\n",
       "        vertical-align: middle;\n",
       "    }\n",
       "\n",
       "    .dataframe tbody tr th {\n",
       "        vertical-align: top;\n",
       "    }\n",
       "\n",
       "    .dataframe thead th {\n",
       "        text-align: right;\n",
       "    }\n",
       "</style>\n",
       "<table border=\"1\" class=\"dataframe\">\n",
       "  <thead>\n",
       "    <tr style=\"text-align: right;\">\n",
       "      <th></th>\n",
       "      <th>cell</th>\n",
       "      <th>time</th>\n",
       "      <th>x</th>\n",
       "      <th>y</th>\n",
       "      <th>z</th>\n",
       "      <th>size</th>\n",
       "      <th>compact_cellname</th>\n",
       "      <th>label</th>\n",
       "    </tr>\n",
       "  </thead>\n",
       "  <tbody>\n",
       "    <tr>\n",
       "      <th>0</th>\n",
       "      <td>ABa</td>\n",
       "      <td>1</td>\n",
       "      <td>280</td>\n",
       "      <td>277</td>\n",
       "      <td>15.0</td>\n",
       "      <td>60</td>\n",
       "      <td>AB</td>\n",
       "      <td>0</td>\n",
       "    </tr>\n",
       "    <tr>\n",
       "      <th>1</th>\n",
       "      <td>ABa</td>\n",
       "      <td>2</td>\n",
       "      <td>283</td>\n",
       "      <td>280</td>\n",
       "      <td>17.2</td>\n",
       "      <td>66</td>\n",
       "      <td>AB</td>\n",
       "      <td>0</td>\n",
       "    </tr>\n",
       "    <tr>\n",
       "      <th>2</th>\n",
       "      <td>ABa</td>\n",
       "      <td>3</td>\n",
       "      <td>263</td>\n",
       "      <td>282</td>\n",
       "      <td>18.3</td>\n",
       "      <td>60</td>\n",
       "      <td>AB</td>\n",
       "      <td>0</td>\n",
       "    </tr>\n",
       "    <tr>\n",
       "      <th>3</th>\n",
       "      <td>ABa</td>\n",
       "      <td>4</td>\n",
       "      <td>245</td>\n",
       "      <td>282</td>\n",
       "      <td>18.3</td>\n",
       "      <td>66</td>\n",
       "      <td>AB</td>\n",
       "      <td>0</td>\n",
       "    </tr>\n",
       "  </tbody>\n",
       "</table>\n",
       "</div>"
      ],
      "text/plain": [
       "  cell  time    x    y     z  size compact_cellname  label\n",
       "0  ABa     1  280  277  15.0    60               AB      0\n",
       "1  ABa     2  283  280  17.2    66               AB      0\n",
       "2  ABa     3  263  282  18.3    60               AB      0\n",
       "3  ABa     4  245  282  18.3    66               AB      0"
      ]
     },
     "execution_count": 21,
     "metadata": {
      "tags": []
     },
     "output_type": "execute_result"
    }
   ],
   "source": [
    "df.head(4)"
   ]
  },
  {
   "cell_type": "markdown",
   "metadata": {
    "colab_type": "text",
    "id": "RFqa9rykrW4v"
   },
   "source": [
    "\n",
    "## Visualising the categorical distribution of the data \n",
    "* As it can be seen below, the data is unbalanced. With two of the classes taking most of the data. "
   ]
  },
  {
   "cell_type": "code",
   "execution_count": 32,
   "metadata": {
    "colab": {
     "base_uri": "https://localhost:8080/",
     "height": 592
    },
    "colab_type": "code",
    "id": "H9nMMo9s_JCe",
    "outputId": "9aa11df7-c0ed-4f21-e97e-84f868649f13"
   },
   "outputs": [
    {
     "name": "stdout",
     "output_type": "stream",
     "text": [
      "17\n"
     ]
    },
    {
     "data": {
      "image/png": "[encoded data removed]",
      "text/plain": [
       "<Figure size 720x720 with 1 Axes>"
      ]
     },
     "metadata": {
      "tags": []
     },
     "output_type": "display_data"
    }
   ],
   "source": [
    "labels = df.compact_cellname.unique()\n",
    "\n",
    "plt.rcParams['figure.figsize'] = 10, 10\n",
    "plt.rcParams['text.color'] = 'white'\n",
    "plt.rcParams['font.size'] = 20.0\n",
    "\n",
    "\n",
    "x_vals = df[[\"x\", \"y\", \"z\", \"time\", \"size\"]]\n",
    "y_vals = df[\"label\"]\n",
    "print(len(y_vals.value_counts().values))\n",
    "\n",
    "plt.pie(y_vals.value_counts().values, labels = labels)\n",
    "plt.show()"
   ]
  },
  {
   "cell_type": "markdown",
   "metadata": {
    "colab_type": "text",
    "id": "tVeDVB4gtpxP"
   },
   "source": [
    "## Fixing the data imbalance with `RandomOverSampler()`"
   ]
  },
  {
   "cell_type": "code",
   "execution_count": 33,
   "metadata": {
    "colab": {
     "base_uri": "https://localhost:8080/",
     "height": 52
    },
    "colab_type": "code",
    "id": "7JCl4QUC_L3f",
    "outputId": "4f3966c3-604c-4082-eab8-b56537ca963c"
   },
   "outputs": [
    {
     "name": "stderr",
     "output_type": "stream",
     "text": [
      "/usr/local/lib/python3.6/dist-packages/sklearn/utils/deprecation.py:87: FutureWarning: Function safe_indexing is deprecated; safe_indexing is deprecated in version 0.22 and will be removed in version 0.24.\n",
      "  warnings.warn(msg, category=FutureWarning)\n"
     ]
    }
   ],
   "source": [
    "oversample = RandomOverSampler()\n",
    "x_over, y_over = oversample.fit_resample(x_vals, y_vals)\n",
    "\n",
    "# plt.pie(y_over.value_counts())\n",
    "# plt.show()"
   ]
  },
  {
   "cell_type": "code",
   "execution_count": 34,
   "metadata": {
    "colab": {
     "base_uri": "https://localhost:8080/",
     "height": 52
    },
    "colab_type": "code",
    "id": "tbKz3PS1AKtW",
    "outputId": "f24d4633-be9b-4a5b-92ec-e9419df68a82"
   },
   "outputs": [
    {
     "name": "stdout",
     "output_type": "stream",
     "text": [
      "(106165, 5)\n",
      "(106165,)\n"
     ]
    }
   ],
   "source": [
    "x_vals = x_over\n",
    "y_vals = y_over\n",
    "\n",
    "print(x_vals.shape)\n",
    "print(y_vals.shape)"
   ]
  },
  {
   "cell_type": "code",
   "execution_count": 0,
   "metadata": {
    "colab": {},
    "colab_type": "code",
    "id": "1pAYf03XAZ2n"
   },
   "outputs": [],
   "source": [
    "x_train_tensor = torch.from_numpy(x_vals).float()\n",
    "y_train_tensor = torch.from_numpy(y_vals).float()\n",
    "full_dataset = TensorDataset(x_train_tensor, y_train_tensor)    ## make compatible with DataLoader "
   ]
  },
  {
   "cell_type": "markdown",
   "metadata": {
    "colab_type": "text",
    "id": "tc8sIC-9uXwY"
   },
   "source": [
    "## Train test split"
   ]
  },
  {
   "cell_type": "code",
   "execution_count": 36,
   "metadata": {
    "colab": {
     "base_uri": "https://localhost:8080/",
     "height": 52
    },
    "colab_type": "code",
    "id": "3U6M-Kg2Abyo",
    "outputId": "86a5f404-5661-4f74-e217-f9a558cb59ce"
   },
   "outputs": [
    {
     "name": "stdout",
     "output_type": "stream",
     "text": [
      "637 batches \n",
      "11  batches \n"
     ]
    }
   ],
   "source": [
    "train_size = int(0.9 * len(full_dataset))  ## 90/10 split\n",
    "test_size = len(full_dataset) - train_size\n",
    "train_dataset, test_dataset = random_split(full_dataset, [train_size, test_size])\n",
    "\n",
    "train_loader = DataLoader(dataset=train_dataset, batch_size=150, shuffle=True, num_workers = 8)\n",
    "\n",
    "val_loader = DataLoader(dataset=test_dataset, batch_size=1000, shuffle = True, num_workers = 8)\n",
    "\n",
    "print(len(train_loader), \"batches \")\n",
    "print(len(val_loader), \" batches \")\n"
   ]
  },
  {
   "cell_type": "markdown",
   "metadata": {
    "colab_type": "text",
    "id": "1z0BhFLCuriN"
   },
   "source": [
    "## The model architecture\n",
    "* Dropout layers were used to avoid overfitting. `p = 0.2` means there is a probability of 0.2 that input will \"drop out\" and skip to the next layer.\n",
    "* In order to train the model in the GPU, `.cuda()` was used to move the model into the GPU. "
   ]
  },
  {
   "cell_type": "code",
   "execution_count": 37,
   "metadata": {
    "colab": {
     "base_uri": "https://localhost:8080/",
     "height": 173
    },
    "colab_type": "code",
    "id": "JcODxDA6AelN",
    "outputId": "e3821618-4889-4e1c-90c0-15b75690dd08"
   },
   "outputs": [
    {
     "name": "stdout",
     "output_type": "stream",
     "text": [
      "Model(\n",
      "  (dropout): Dropout(p=0.2, inplace=False)\n",
      "  (fc1): Linear(in_features=5, out_features=256, bias=True)\n",
      "  (fc2): Linear(in_features=256, out_features=128, bias=True)\n",
      "  (fc3): Linear(in_features=128, out_features=128, bias=True)\n",
      "  (fc4): Linear(in_features=128, out_features=128, bias=True)\n",
      "  (fc5): Linear(in_features=128, out_features=64, bias=True)\n",
      "  (fc6): Linear(in_features=64, out_features=32, bias=True)\n",
      ")\n"
     ]
    }
   ],
   "source": [
    "class Model(nn.Module):\n",
    "    def __init__(self):\n",
    "        super(Model, self).__init__()\n",
    "\n",
    "        self.dropout = nn.Dropout(p=0.2)\n",
    "        self.fc1 = nn.Linear(5, 256)\n",
    "        self.fc2 = nn.Linear(256, 128)\n",
    "        self.fc3 = nn.Linear(128, 128)\n",
    "        self.fc4 = nn.Linear(128, 128)\n",
    "\n",
    "        self.fc5 = nn.Linear(128, 64)\n",
    "        self.fc6 = nn.Linear(64, 32)\n",
    "\n",
    "    def forward(self, x):\n",
    "        x = F.relu(self.fc1(x))\n",
    "        x = self.dropout(F.relu(self.fc2(x)))\n",
    "        x = self.dropout(F.relu(self.fc3(x)))\n",
    "        x = self.dropout(F.relu(self.fc4(x)))\n",
    "\n",
    "        x = F.relu(self.fc5(x))\n",
    "\n",
    "        return (self.fc6(x))\n",
    "    \n",
    "model = Model()\n",
    "print(model)\n",
    "model = model.cuda()"
   ]
  },
  {
   "cell_type": "markdown",
   "metadata": {
    "colab_type": "text",
    "id": "zO6gCC1JxUlm"
   },
   "source": [
    "## Reducing the learning rate when the loss curve plateaus\n",
    "* `factor = 0.7` means the the new learning rate would be `new_lr = 0.7 * current_lr`\n",
    "* `patience = 6` means the function would wait for 6 epochs with no imporvement in loss before reducing the learning rate. \n",
    "* For a more  detailed reference, check the [docs](https://pytorch.org/docs/stable/optim.html#torch.optim.lr_scheduler.ReduceLROnPlateau)"
   ]
  },
  {
   "cell_type": "code",
   "execution_count": 0,
   "metadata": {
    "colab": {},
    "colab_type": "code",
    "id": "B_VGyG7FAgxG"
   },
   "outputs": [],
   "source": [
    "optimizer = optim.Adam(model.parameters(), lr = 0.001) \n",
    "scheduler = ReduceLROnPlateau(optimizer, mode='min', factor=0.7, patience=6, verbose=False, threshold=0.0001, threshold_mode='rel', cooldown=0, min_lr=0, eps=1e-08)\n",
    "losses = []\n",
    "val_losses = []\n",
    "accuracies = []\n",
    "train_accuracies = []\n",
    "learning_rates = []"
   ]
  },
  {
   "cell_type": "markdown",
   "metadata": {
    "colab_type": "text",
    "id": "P25eWyESz86C"
   },
   "source": [
    "### Learning rate visualization\n",
    " `get_lr` returns the current learning rate of a model while training, while `show_lr()` plots them.  "
   ]
  },
  {
   "cell_type": "code",
   "execution_count": 0,
   "metadata": {
    "colab": {},
    "colab_type": "code",
    "id": "jkLxMk4leXz6"
   },
   "outputs": [],
   "source": [
    "def get_lr(optimizer):\n",
    "    for param_group in optimizer.param_groups:\n",
    "        return param_group['lr']\n",
    "        \n",
    "def show_lr(learning_rates):\n",
    "    plt.plot(learning_rates, label = \"learning rate\")\n",
    "    plt.ylabel(\"Learning rate\", fontsize = 15)\n",
    "    plt.grid(True)\n",
    "    plt.legend()\n",
    "    plt.show()"
   ]
  },
  {
   "cell_type": "markdown",
   "metadata": {
    "colab_type": "text",
    "id": "B9KyZmHu3jUP"
   },
   "source": [
    "## The training loop\n",
    "* `.cuda()` moves the tensors to the GPU for faster training \n",
    "*  `calculate_accuracy_on_validation_set()` returns the classicication accuracy of the model on a given `DataLoader()` (dataset). \n",
    "* `train_step()` defines one iterative training step for a given batch which involves loss calculation and backpropagation. \n",
    "* `train()` trains the model for n epochs and displays the training metrics in the process. "
   ]
  },
  {
   "cell_type": "code",
   "execution_count": 0,
   "metadata": {
    "colab": {},
    "colab_type": "code",
    "id": "jtfOoh2cAiu2"
   },
   "outputs": [],
   "source": [
    "def calculate_accuracy_on_validation_set(val_loader, model):\n",
    "\n",
    "    model.eval()\n",
    "    with torch.no_grad():\n",
    "        total = 0\n",
    "        correct = 0\n",
    "        for batch in val_loader:\n",
    "            x_val, y_val = batch\n",
    "\n",
    "            x_val = x_val.cuda()\n",
    "            y_val = y_val.cuda()\n",
    "            pred = model(x_val)  # pred()\n",
    "            scores = ([i.item() for i in (torch.eq(torch.argmax(pred,dim = 1).float(), y_val))])\n",
    "            for m in scores:\n",
    "                total+= 1 \n",
    "                if m == True:\n",
    "                    correct +=1 \n",
    "        acc = (correct/total)*100\n",
    "        return acc\n",
    "    \n",
    "    \n",
    "def train_step(x, y):\n",
    "    x = x.cuda()\n",
    "    y = y.cuda()\n",
    "    optimizer.zero_grad()\n",
    "    pred = model(x)\n",
    "    loss = F.cross_entropy(pred, y.long())\n",
    "    loss.backward()\n",
    "    optimizer.step()\n",
    "    return loss.cpu().item()\n",
    "\n",
    "def train(epochs):\n",
    "    \n",
    "    for m in range (epochs):\n",
    "        clear_output()\n",
    "\n",
    "        show_lr(learning_rates)\n",
    "        plt.plot(accuracies, label = \"test\")\n",
    "        plt.plot(train_accuracies, label = \"train\")\n",
    "        plt.xlabel(\"epochs\", fontsize = 15)\n",
    "        plt.ylabel(\"accuracy\", fontsize=15)\n",
    "        plt.grid()\n",
    "        plt.legend()\n",
    "        plt.show()\n",
    "\n",
    "\n",
    "\n",
    "        print (\"epoch \", m+1, \" out of \", epochs )\n",
    "        model.train()\n",
    "        for x_batch, y_batch in tqdm(train_loader):\n",
    "\n",
    "\n",
    "                loss = train_step(x_batch, y_batch)\n",
    "                losses.append(loss)\n",
    "\n",
    "        with torch.no_grad():\n",
    "                model.eval()\n",
    "\n",
    "                for x_val, y_val in tqdm(val_loader):\n",
    "\n",
    "                    x_val = x_val.cuda()\n",
    "                    y_val = y_val.cuda()\n",
    "\n",
    "                    yhat = model(x_val)  # pred \n",
    "                    val_loss = F.cross_entropy(yhat, y_val.long())\n",
    "\n",
    "                    val_losses.append(val_loss.item())  ## metrics \n",
    "        scheduler.step(1.)   ## lr decay caller \n",
    "        learning_rates.append(get_lr(optimizer))\n",
    "        accuracies.append(calculate_accuracy_on_validation_set(val_loader, model))\n",
    "        train_accuracies.append(calculate_accuracy_on_validation_set(train_loader, model))\n",
    "\n",
    "    clear_output()\n",
    "\n",
    "    show_lr(learning_rates)\n",
    "    plt.plot(accuracies, label = \"test\")\n",
    "    plt.plot(train_accuracies, label = \"train\")\n",
    "    plt.xlabel(\"epochs\", fontsize = 15)\n",
    "    plt.ylabel(\"accuracy\", fontsize=15)\n",
    "    plt.grid()\n",
    "    plt.legend()\n",
    "    plt.show()\n",
    "    print (\"Final accuracy = \", accuracies[-1], \" %\")"
   ]
  },
  {
   "cell_type": "markdown",
   "metadata": {
    "colab_type": "text",
    "id": "BUl6Vbdf6HcV"
   },
   "source": [
    "### It can be seen below how the learning rate decreases whenever the accuracy plateaus."
   ]
  },
  {
   "cell_type": "code",
   "execution_count": 43,
   "metadata": {
    "colab": {
     "base_uri": "https://localhost:8080/",
     "height": 677,
     "referenced_widgets": [
      "138ee4859df1407096af96b3945f7cdb",
      "f7e8f1c8eccd4f8d8cb6ddc9c7df81eb",
      "1a7fd96bbc2b4059a8afcfc389807286",
      "902637efdcde4069887fef5475370084",
      "5621a4891e26486caadc4e11062ca8f2",
      "781a2f94e7fe4b0da758eda7214873ec",
      "edf0239638d049df99010753a22f8fc6",
      "d62c83a9aaf7420ba8de3cf1e8c145de",
      "e8baf4428da64763831111cebba6609d",
      "a2b2b9a7781a49e38b38e4b67c2f143e",
      "6ea2ccc1e62b43a6931dad3940c2a0c8",
      "e7777c1ca4504a51aaa32aa62eca60b1",
      "4fca37d3abbb4a70a90d3168d28e8f83",
      "69ffcc458fc54ba4ac4ec516b903abe8",
      "003af4ffebfd40d1b9e51d3548dbd9e8",
      "a7887bd7d32a44a1b1368f7ed9d10802"
     ]
    },
    "colab_type": "code",
    "id": "uxMyEc6Fpgkp",
    "outputId": "b7f8282e-cc11-4ada-eca5-840c6c1e5ebf"
   },
   "outputs": [
    {
     "data": {
      "image/png": "[encoded data removed]",
      "text/plain": [
       "<Figure size 720x360 with 1 Axes>"
      ]
     },
     "metadata": {
      "needs_background": "light",
      "tags": []
     },
     "output_type": "display_data"
    },
    {
     "data": {
      "image/png": "[encoded data removed]",
      "text/plain": [
       "<Figure size 720x360 with 1 Axes>"
      ]
     },
     "metadata": {
      "needs_background": "light",
      "tags": []
     },
     "output_type": "display_data"
    },
    {
     "name": "stdout",
     "output_type": "stream",
     "text": [
      "Final accuracy =  98.28576810775172  %\n"
     ]
    }
   ],
   "source": [
    "plt.rcParams['text.color'] = 'black'\n",
    "plt.rcParams['figure.figsize'] = 10, 5\n",
    "train(20)"
   ]
  },
  {
   "cell_type": "markdown",
   "metadata": {
    "colab_type": "text",
    "id": "t6B3kzMq9q3U"
   },
   "source": [
    "### Saving the model"
   ]
  },
  {
   "cell_type": "code",
   "execution_count": 0,
   "metadata": {
    "colab": {},
    "colab_type": "code",
    "id": "4BgQilOSyCQT"
   },
   "outputs": [],
   "source": [
    "torch.save(model.state_dict(), ROOT + \"models/\" + \"epic_dataset_model.pt\")"
   ]
  }
 ],
 "metadata": {
  "accelerator": "GPU",
  "colab": {
   "collapsed_sections": [],
   "name": "deep_learning_on_metadata.ipynb",
   "provenance": []
  },
  "kernelspec": {
   "display_name": "Python 3",
   "language": "python",
   "name": "python3"
  },
  "language_info": {
   "codemirror_mode": {
    "name": "ipython",
    "version": 3
   },
   "file_extension": ".py",
   "mimetype": "text/x-python",
   "name": "python",
   "nbconvert_exporter": "python",
   "pygments_lexer": "ipython3",
   "version": "3.7.3"
  },
  "widgets": {
   "application/vnd.jupyter.widget-state+json": {
    "003af4ffebfd40d1b9e51d3548dbd9e8": {
     "model_module": "@jupyter-widgets/controls",
     "model_name": "DescriptionStyleModel",
     "state": {
      "_model_module": "@jupyter-widgets/controls",
      "_model_module_version": "1.5.0",
      "_model_name": "DescriptionStyleModel",
      "_view_count": null,
      "_view_module": "@jupyter-widgets/base",
      "_view_module_version": "1.2.0",
      "_view_name": "StyleView",
      "description_width": ""
     }
    },
    "138ee4859df1407096af96b3945f7cdb": {
     "model_module": "@jupyter-widgets/controls",
     "model_name": "HBoxModel",
     "state": {
      "_dom_classes": [],
      "_model_module": "@jupyter-widgets/controls",
      "_model_module_version": "1.5.0",
      "_model_name": "HBoxModel",
      "_view_count": null,
      "_view_module": "@jupyter-widgets/controls",
      "_view_module_version": "1.5.0",
      "_view_name": "HBoxView",
      "box_style": "",
      "children": [
       "IPY_MODEL_1a7fd96bbc2b4059a8afcfc389807286",
       "IPY_MODEL_902637efdcde4069887fef5475370084"
      ],
      "layout": "IPY_MODEL_f7e8f1c8eccd4f8d8cb6ddc9c7df81eb"
     }
    },
    "1a7fd96bbc2b4059a8afcfc389807286": {
     "model_module": "@jupyter-widgets/controls",
     "model_name": "FloatProgressModel",
     "state": {
      "_dom_classes": [],
      "_model_module": "@jupyter-widgets/controls",
      "_model_module_version": "1.5.0",
      "_model_name": "FloatProgressModel",
      "_view_count": null,
      "_view_module": "@jupyter-widgets/controls",
      "_view_module_version": "1.5.0",
      "_view_name": "ProgressView",
      "bar_style": "success",
      "description": "100%",
      "description_tooltip": null,
      "layout": "IPY_MODEL_781a2f94e7fe4b0da758eda7214873ec",
      "max": 637,
      "min": 0,
      "orientation": "horizontal",
      "style": "IPY_MODEL_5621a4891e26486caadc4e11062ca8f2",
      "value": 637
     }
    },
    "4fca37d3abbb4a70a90d3168d28e8f83": {
     "model_module": "@jupyter-widgets/controls",
     "model_name": "ProgressStyleModel",
     "state": {
      "_model_module": "@jupyter-widgets/controls",
      "_model_module_version": "1.5.0",
      "_model_name": "ProgressStyleModel",
      "_view_count": null,
      "_view_module": "@jupyter-widgets/base",
      "_view_module_version": "1.2.0",
      "_view_name": "StyleView",
      "bar_color": null,
      "description_width": "initial"
     }
    },
    "5621a4891e26486caadc4e11062ca8f2": {
     "model_module": "@jupyter-widgets/controls",
     "model_name": "ProgressStyleModel",
     "state": {
      "_model_module": "@jupyter-widgets/controls",
      "_model_module_version": "1.5.0",
      "_model_name": "ProgressStyleModel",
      "_view_count": null,
      "_view_module": "@jupyter-widgets/base",
      "_view_module_version": "1.2.0",
      "_view_name": "StyleView",
      "bar_color": null,
      "description_width": "initial"
     }
    },
    "69ffcc458fc54ba4ac4ec516b903abe8": {
     "model_module": "@jupyter-widgets/base",
     "model_name": "LayoutModel",
     "state": {
      "_model_module": "@jupyter-widgets/base",
      "_model_module_version": "1.2.0",
      "_model_name": "LayoutModel",
      "_view_count": null,
      "_view_module": "@jupyter-widgets/base",
      "_view_module_version": "1.2.0",
      "_view_name": "LayoutView",
      "align_content": null,
      "align_items": null,
      "align_self": null,
      "border": null,
      "bottom": null,
      "display": null,
      "flex": null,
      "flex_flow": null,
      "grid_area": null,
      "grid_auto_columns": null,
      "grid_auto_flow": null,
      "grid_auto_rows": null,
      "grid_column": null,
      "grid_gap": null,
      "grid_row": null,
      "grid_template_areas": null,
      "grid_template_columns": null,
      "grid_template_rows": null,
      "height": null,
      "justify_content": null,
      "justify_items": null,
      "left": null,
      "margin": null,
      "max_height": null,
      "max_width": null,
      "min_height": null,
      "min_width": null,
      "object_fit": null,
      "object_position": null,
      "order": null,
      "overflow": null,
      "overflow_x": null,
      "overflow_y": null,
      "padding": null,
      "right": null,
      "top": null,
      "visibility": null,
      "width": null
     }
    },
    "6ea2ccc1e62b43a6931dad3940c2a0c8": {
     "model_module": "@jupyter-widgets/controls",
     "model_name": "FloatProgressModel",
     "state": {
      "_dom_classes": [],
      "_model_module": "@jupyter-widgets/controls",
      "_model_module_version": "1.5.0",
      "_model_name": "FloatProgressModel",
      "_view_count": null,
      "_view_module": "@jupyter-widgets/controls",
      "_view_module_version": "1.5.0",
      "_view_name": "ProgressView",
      "bar_style": "success",
      "description": "100%",
      "description_tooltip": null,
      "layout": "IPY_MODEL_69ffcc458fc54ba4ac4ec516b903abe8",
      "max": 11,
      "min": 0,
      "orientation": "horizontal",
      "style": "IPY_MODEL_4fca37d3abbb4a70a90d3168d28e8f83",
      "value": 11
     }
    },
    "781a2f94e7fe4b0da758eda7214873ec": {
     "model_module": "@jupyter-widgets/base",
     "model_name": "LayoutModel",
     "state": {
      "_model_module": "@jupyter-widgets/base",
      "_model_module_version": "1.2.0",
      "_model_name": "LayoutModel",
      "_view_count": null,
      "_view_module": "@jupyter-widgets/base",
      "_view_module_version": "1.2.0",
      "_view_name": "LayoutView",
      "align_content": null,
      "align_items": null,
      "align_self": null,
      "border": null,
      "bottom": null,
      "display": null,
      "flex": null,
      "flex_flow": null,
      "grid_area": null,
      "grid_auto_columns": null,
      "grid_auto_flow": null,
      "grid_auto_rows": null,
      "grid_column": null,
      "grid_gap": null,
      "grid_row": null,
      "grid_template_areas": null,
      "grid_template_columns": null,
      "grid_template_rows": null,
      "height": null,
      "justify_content": null,
      "justify_items": null,
      "left": null,
      "margin": null,
      "max_height": null,
      "max_width": null,
      "min_height": null,
      "min_width": null,
      "object_fit": null,
      "object_position": null,
      "order": null,
      "overflow": null,
      "overflow_x": null,
      "overflow_y": null,
      "padding": null,
      "right": null,
      "top": null,
      "visibility": null,
      "width": null
     }
    },
    "902637efdcde4069887fef5475370084": {
     "model_module": "@jupyter-widgets/controls",
     "model_name": "HTMLModel",
     "state": {
      "_dom_classes": [],
      "_model_module": "@jupyter-widgets/controls",
      "_model_module_version": "1.5.0",
      "_model_name": "HTMLModel",
      "_view_count": null,
      "_view_module": "@jupyter-widgets/controls",
      "_view_module_version": "1.5.0",
      "_view_name": "HTMLView",
      "description": "",
      "description_tooltip": null,
      "layout": "IPY_MODEL_d62c83a9aaf7420ba8de3cf1e8c145de",
      "placeholder": "​",
      "style": "IPY_MODEL_edf0239638d049df99010753a22f8fc6",
      "value": " 637/637 [00:12&lt;00:00, 52.06it/s]"
     }
    },
    "a2b2b9a7781a49e38b38e4b67c2f143e": {
     "model_module": "@jupyter-widgets/base",
     "model_name": "LayoutModel",
     "state": {
      "_model_module": "@jupyter-widgets/base",
      "_model_module_version": "1.2.0",
      "_model_name": "LayoutModel",
      "_view_count": null,
      "_view_module": "@jupyter-widgets/base",
      "_view_module_version": "1.2.0",
      "_view_name": "LayoutView",
      "align_content": null,
      "align_items": null,
      "align_self": null,
      "border": null,
      "bottom": null,
      "display": null,
      "flex": null,
      "flex_flow": null,
      "grid_area": null,
      "grid_auto_columns": null,
      "grid_auto_flow": null,
      "grid_auto_rows": null,
      "grid_column": null,
      "grid_gap": null,
      "grid_row": null,
      "grid_template_areas": null,
      "grid_template_columns": null,
      "grid_template_rows": null,
      "height": null,
      "justify_content": null,
      "justify_items": null,
      "left": null,
      "margin": null,
      "max_height": null,
      "max_width": null,
      "min_height": null,
      "min_width": null,
      "object_fit": null,
      "object_position": null,
      "order": null,
      "overflow": null,
      "overflow_x": null,
      "overflow_y": null,
      "padding": null,
      "right": null,
      "top": null,
      "visibility": null,
      "width": null
     }
    },
    "a7887bd7d32a44a1b1368f7ed9d10802": {
     "model_module": "@jupyter-widgets/base",
     "model_name": "LayoutModel",
     "state": {
      "_model_module": "@jupyter-widgets/base",
      "_model_module_version": "1.2.0",
      "_model_name": "LayoutModel",
      "_view_count": null,
      "_view_module": "@jupyter-widgets/base",
      "_view_module_version": "1.2.0",
      "_view_name": "LayoutView",
      "align_content": null,
      "align_items": null,
      "align_self": null,
      "border": null,
      "bottom": null,
      "display": null,
      "flex": null,
      "flex_flow": null,
      "grid_area": null,
      "grid_auto_columns": null,
      "grid_auto_flow": null,
      "grid_auto_rows": null,
      "grid_column": null,
      "grid_gap": null,
      "grid_row": null,
      "grid_template_areas": null,
      "grid_template_columns": null,
      "grid_template_rows": null,
      "height": null,
      "justify_content": null,
      "justify_items": null,
      "left": null,
      "margin": null,
      "max_height": null,
      "max_width": null,
      "min_height": null,
      "min_width": null,
      "object_fit": null,
      "object_position": null,
      "order": null,
      "overflow": null,
      "overflow_x": null,
      "overflow_y": null,
      "padding": null,
      "right": null,
      "top": null,
      "visibility": null,
      "width": null
     }
    },
    "d62c83a9aaf7420ba8de3cf1e8c145de": {
     "model_module": "@jupyter-widgets/base",
     "model_name": "LayoutModel",
     "state": {
      "_model_module": "@jupyter-widgets/base",
      "_model_module_version": "1.2.0",
      "_model_name": "LayoutModel",
      "_view_count": null,
      "_view_module": "@jupyter-widgets/base",
      "_view_module_version": "1.2.0",
      "_view_name": "LayoutView",
      "align_content": null,
      "align_items": null,
      "align_self": null,
      "border": null,
      "bottom": null,
      "display": null,
      "flex": null,
      "flex_flow": null,
      "grid_area": null,
      "grid_auto_columns": null,
      "grid_auto_flow": null,
      "grid_auto_rows": null,
      "grid_column": null,
      "grid_gap": null,
      "grid_row": null,
      "grid_template_areas": null,
      "grid_template_columns": null,
      "grid_template_rows": null,
      "height": null,
      "justify_content": null,
      "justify_items": null,
      "left": null,
      "margin": null,
      "max_height": null,
      "max_width": null,
      "min_height": null,
      "min_width": null,
      "object_fit": null,
      "object_position": null,
      "order": null,
      "overflow": null,
      "overflow_x": null,
      "overflow_y": null,
      "padding": null,
      "right": null,
      "top": null,
      "visibility": null,
      "width": null
     }
    },
    "e7777c1ca4504a51aaa32aa62eca60b1": {
     "model_module": "@jupyter-widgets/controls",
     "model_name": "HTMLModel",
     "state": {
      "_dom_classes": [],
      "_model_module": "@jupyter-widgets/controls",
      "_model_module_version": "1.5.0",
      "_model_name": "HTMLModel",
      "_view_count": null,
      "_view_module": "@jupyter-widgets/controls",
      "_view_module_version": "1.5.0",
      "_view_name": "HTMLView",
      "description": "",
      "description_tooltip": null,
      "layout": "IPY_MODEL_a7887bd7d32a44a1b1368f7ed9d10802",
      "placeholder": "​",
      "style": "IPY_MODEL_003af4ffebfd40d1b9e51d3548dbd9e8",
      "value": " 11/11 [00:06&lt;00:00,  1.80it/s]"
     }
    },
    "e8baf4428da64763831111cebba6609d": {
     "model_module": "@jupyter-widgets/controls",
     "model_name": "HBoxModel",
     "state": {
      "_dom_classes": [],
      "_model_module": "@jupyter-widgets/controls",
      "_model_module_version": "1.5.0",
      "_model_name": "HBoxModel",
      "_view_count": null,
      "_view_module": "@jupyter-widgets/controls",
      "_view_module_version": "1.5.0",
      "_view_name": "HBoxView",
      "box_style": "",
      "children": [
       "IPY_MODEL_6ea2ccc1e62b43a6931dad3940c2a0c8",
       "IPY_MODEL_e7777c1ca4504a51aaa32aa62eca60b1"
      ],
      "layout": "IPY_MODEL_a2b2b9a7781a49e38b38e4b67c2f143e"
     }
    },
    "edf0239638d049df99010753a22f8fc6": {
     "model_module": "@jupyter-widgets/controls",
     "model_name": "DescriptionStyleModel",
     "state": {
      "_model_module": "@jupyter-widgets/controls",
      "_model_module_version": "1.5.0",
      "_model_name": "DescriptionStyleModel",
      "_view_count": null,
      "_view_module": "@jupyter-widgets/base",
      "_view_module_version": "1.2.0",
      "_view_name": "StyleView",
      "description_width": ""
     }
    },
    "f7e8f1c8eccd4f8d8cb6ddc9c7df81eb": {
     "model_module": "@jupyter-widgets/base",
     "model_name": "LayoutModel",
     "state": {
      "_model_module": "@jupyter-widgets/base",
      "_model_module_version": "1.2.0",
      "_model_name": "LayoutModel",
      "_view_count": null,
      "_view_module": "@jupyter-widgets/base",
      "_view_module_version": "1.2.0",
      "_view_name": "LayoutView",
      "align_content": null,
      "align_items": null,
      "align_self": null,
      "border": null,
      "bottom": null,
      "display": null,
      "flex": null,
      "flex_flow": null,
      "grid_area": null,
      "grid_auto_columns": null,
      "grid_auto_flow": null,
      "grid_auto_rows": null,
      "grid_column": null,
      "grid_gap": null,
      "grid_row": null,
      "grid_template_areas": null,
      "grid_template_columns": null,
      "grid_template_rows": null,
      "height": null,
      "justify_content": null,
      "justify_items": null,
      "left": null,
      "margin": null,
      "max_height": null,
      "max_width": null,
      "min_height": null,
      "min_width": null,
      "object_fit": null,
      "object_position": null,
      "order": null,
      "overflow": null,
      "overflow_x": null,
      "overflow_y": null,
      "padding": null,
      "right": null,
      "top": null,
      "visibility": null,
      "width": null
     }
    }
   }
  }
 },
 "nbformat": 4,
 "nbformat_minor": 1
}
