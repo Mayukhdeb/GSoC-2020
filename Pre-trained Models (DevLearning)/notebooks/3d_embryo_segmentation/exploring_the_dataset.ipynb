{
 "cells": [
  {
   "cell_type": "code",
   "execution_count": 331,
   "metadata": {},
   "outputs": [],
   "source": [
    "import scipy.io\n",
    "import os\n",
    "import matplotlib.pyplot as plt \n",
    "from IPython.display import clear_output\n",
    "import numpy as np\n",
    "import cv2\n",
    "from tqdm.notebook import tqdm\n",
    "import pandas as pd \n",
    "\n",
    "plt.rcParams['image.cmap'] = 'viridis'\n"
   ]
  },
  {
   "cell_type": "code",
   "execution_count": 332,
   "metadata": {},
   "outputs": [],
   "source": [
    "image_paths = np.sort(np.array(os.listdir(\"raw_images\")))\n",
    "seg_paths = np.sort(np.array(os.listdir(\"segmented\")))"
   ]
  },
  {
   "cell_type": "code",
   "execution_count": 333,
   "metadata": {},
   "outputs": [],
   "source": [
    "mat = scipy.io.loadmat(\"raw_images/\" + image_paths[10])\n",
    "seg_np = scipy.io.loadmat(\"segmented/\" + seg_paths[10])"
   ]
  },
  {
   "cell_type": "code",
   "execution_count": 334,
   "metadata": {},
   "outputs": [],
   "source": [
    "image = (mat[\"embryo\"])\n",
    "segmented = seg_np[\"membSeg\"]"
   ]
  },
  {
   "cell_type": "code",
   "execution_count": 335,
   "metadata": {},
   "outputs": [
    {
     "data": {
      "text/plain": [
       "(205, 285, 134)"
      ]
     },
     "execution_count": 335,
     "metadata": {},
     "output_type": "execute_result"
    }
   ],
   "source": [
    "segmented.shape"
   ]
  },
  {
   "cell_type": "code",
   "execution_count": 336,
   "metadata": {},
   "outputs": [
    {
     "data": {
      "text/plain": [
       "(256, 356, 70)"
      ]
     },
     "execution_count": 336,
     "metadata": {},
     "output_type": "execute_result"
    }
   ],
   "source": [
    "image.shape"
   ]
  },
  {
   "cell_type": "code",
   "execution_count": 337,
   "metadata": {},
   "outputs": [],
   "source": [
    "def show_n_channel_image(n_channels, image):\n",
    "    for i in range(n_channels):\n",
    "        clear_output(wait=True)\n",
    "        plt.imshow(image[:,:,i])\n",
    "        plt.show()"
   ]
  },
  {
   "cell_type": "code",
   "execution_count": 338,
   "metadata": {},
   "outputs": [
    {
     "data": {
      "text/plain": [
       "array([ 0, 70])"
      ]
     },
     "execution_count": 338,
     "metadata": {},
     "output_type": "execute_result"
    }
   ],
   "source": [
    "np.arange(0,134,70)"
   ]
  },
  {
   "cell_type": "code",
   "execution_count": 339,
   "metadata": {
    "scrolled": true
   },
   "outputs": [
    {
     "data": {
      "image/png": "[encoded data removed]",
      "text/plain": [
       "<Figure size 432x288 with 1 Axes>"
      ]
     },
     "metadata": {
      "needs_background": "light"
     },
     "output_type": "display_data"
    }
   ],
   "source": [
    "show_n_channel_image(134, segmented)"
   ]
  },
  {
   "cell_type": "code",
   "execution_count": 340,
   "metadata": {},
   "outputs": [
    {
     "data": {
      "image/png": "[encoded data removed]",
      "text/plain": [
       "<Figure size 432x288 with 1 Axes>"
      ]
     },
     "metadata": {
      "needs_background": "light"
     },
     "output_type": "display_data"
    }
   ],
   "source": [
    "show_n_channel_image(70, image)"
   ]
  },
  {
   "cell_type": "code",
   "execution_count": 341,
   "metadata": {},
   "outputs": [
    {
     "data": {
      "text/plain": [
       "(205, 285, 134)"
      ]
     },
     "execution_count": 341,
     "metadata": {},
     "output_type": "execute_result"
    }
   ],
   "source": [
    "segmented.shape"
   ]
  },
  {
   "cell_type": "code",
   "execution_count": 342,
   "metadata": {
    "scrolled": true
   },
   "outputs": [],
   "source": [
    "seg_mv = np.moveaxis(segmented, 2,0)"
   ]
  },
  {
   "cell_type": "code",
   "execution_count": 343,
   "metadata": {},
   "outputs": [],
   "source": [
    "def partition(lst, n):\n",
    "    increment = len(lst) / float(n)\n",
    "    last = 0\n",
    "    i = 1\n",
    "    results = []\n",
    "    while last < len(lst):\n",
    "        idx = int(round(increment * i))\n",
    "        results.append(lst[last:idx])\n",
    "        last = idx\n",
    "        i += 1\n",
    "    return results"
   ]
  },
  {
   "cell_type": "code",
   "execution_count": 344,
   "metadata": {},
   "outputs": [],
   "source": [
    "slices = partition(seg_mv, 70)"
   ]
  },
  {
   "cell_type": "code",
   "execution_count": 345,
   "metadata": {},
   "outputs": [
    {
     "data": {
      "text/plain": [
       "[<matplotlib.lines.Line2D at 0x7fe0f7a0c8d0>]"
      ]
     },
     "execution_count": 345,
     "metadata": {},
     "output_type": "execute_result"
    },
    {
     "data": {
      "image/png": "[encoded data removed]",
      "text/plain": [
       "<Figure size 432x288 with 1 Axes>"
      ]
     },
     "metadata": {
      "needs_background": "light"
     },
     "output_type": "display_data"
    }
   ],
   "source": [
    "plt.plot([len(i) for i in slices])"
   ]
  },
  {
   "cell_type": "code",
   "execution_count": 346,
   "metadata": {},
   "outputs": [],
   "source": [
    "labels = slices[-20]\n",
    "image = image"
   ]
  },
  {
   "cell_type": "code",
   "execution_count": 347,
   "metadata": {},
   "outputs": [
    {
     "data": {
      "text/plain": [
       "(2, 205, 285)"
      ]
     },
     "execution_count": 347,
     "metadata": {},
     "output_type": "execute_result"
    }
   ],
   "source": [
    "labels.shape"
   ]
  },
  {
   "cell_type": "code",
   "execution_count": 348,
   "metadata": {
    "scrolled": true
   },
   "outputs": [
    {
     "data": {
      "text/plain": [
       "<matplotlib.image.AxesImage at 0x7fe112453518>"
      ]
     },
     "execution_count": 348,
     "metadata": {},
     "output_type": "execute_result"
    },
    {
     "data": {
      "image/png": "[encoded data removed]",
      "text/plain": [
       "<Figure size 432x288 with 1 Axes>"
      ]
     },
     "metadata": {
      "needs_background": "light"
     },
     "output_type": "display_data"
    }
   ],
   "source": [
    "plt.imshow(labels[0])"
   ]
  },
  {
   "cell_type": "code",
   "execution_count": 358,
   "metadata": {},
   "outputs": [],
   "source": [
    "def show_images(img_list):\n",
    "    len_x = len(img_list)\n",
    "    \n",
    "    fig, ax = plt.subplots(1,len_x, figsize = (10,3))\n",
    "    for i in range(len(img_list)):\n",
    "        ax.flat[i].imshow(img_list[i])"
   ]
  },
  {
   "cell_type": "code",
   "execution_count": 359,
   "metadata": {},
   "outputs": [
    {
     "data": {
      "image/png": "[encoded data removed]",
      "text/plain": [
       "<Figure size 720x216 with 2 Axes>"
      ]
     },
     "metadata": {
      "needs_background": "light"
     },
     "output_type": "display_data"
    },
    {
     "data": {
      "image/png": "[encoded data removed]",
      "text/plain": [
       "<Figure size 720x216 with 2 Axes>"
      ]
     },
     "metadata": {
      "needs_background": "light"
     },
     "output_type": "display_data"
    },
    {
     "data": {
      "image/png": "[encoded data removed]",
      "text/plain": [
       "<Figure size 720x216 with 2 Axes>"
      ]
     },
     "metadata": {
      "needs_background": "light"
     },
     "output_type": "display_data"
    }
   ],
   "source": [
    "for i in range(30,33,1):\n",
    "    \n",
    "    show_images(slices[i])"
   ]
  },
  {
   "cell_type": "code",
   "execution_count": 361,
   "metadata": {},
   "outputs": [],
   "source": [
    "def prepare_segmentation_data(image_foldername, seg_foldername, save_folder = \"training_data\"):\n",
    "    metadata = []\n",
    "    \n",
    "    if os.path.isdir(save_folder) is not True:\n",
    "        os.mkdir(save_folder)\n",
    "        os.mkdir(save_folder + \"/\" + \"masks\")\n",
    "        os.mkdir(save_folder + \"/\" + \"images\")\n",
    "        \n",
    "        \n",
    "    image_paths = np.sort(np.array(os.listdir(image_foldername)))\n",
    "    seg_paths = np.sort(np.array(os.listdir(seg_foldername)))\n",
    "    \n",
    "    for i in tqdm(range(len(image_paths))):\n",
    "        img_mat = scipy.io.loadmat(\"raw_images/\" + image_paths[i])\n",
    "        seg_mat = scipy.io.loadmat(\"segmented/\" + seg_paths[i])\n",
    "\n",
    "        images = mat[\"embryo\"]\n",
    "        segs = seg_mat[\"membSeg\"]\n",
    "        \n",
    "        images_mv = np.moveaxis(images, 2,0)\n",
    "        seg_mv = np.moveaxis(segmented, 2,0)\n",
    "        \n",
    "        slices = partition(seg_mv, 70)\n",
    "        \n",
    "        for j in range(9,58,1):  ## exclude black or mostly black images \n",
    "            image_name = \"real_\" + str(i)+\"_\"+str(j)+ \".jpg\"\n",
    "\n",
    "            image = images_mv[j]\n",
    "            masks = slices[j]\n",
    "            \n",
    "            cv2.imwrite(save_folder + \"/images/\" + image_name, image)\n",
    "#             print(save_folder + \"/images/\" + image_name)\n",
    "            \n",
    "            for k in range(len(masks)):\n",
    "                mask_name = \"mask_\" + str(i) + \"_\" + str(j) + \"_\" + str(k) + \".jpg\"\n",
    "                cv2.imwrite(save_folder + \"/masks/\" + mask_name, masks[k])\n",
    "                metadata.append([save_folder + \"/images/\" + image_name, save_folder + \"/masks/\" + mask_name])\n",
    "    return metadata\n",
    "                \n",
    "           \n",
    "        \n",
    "\n",
    "    "
   ]
  },
  {
   "cell_type": "code",
   "execution_count": 362,
   "metadata": {},
   "outputs": [
    {
     "data": {
      "application/vnd.jupyter.widget-view+json": {
       "model_id": "52b915c45eb145609c96cb4eaf42c7b6",
       "version_major": 2,
       "version_minor": 0
      },
      "text/plain": [
       "HBox(children=(FloatProgress(value=0.0, max=95.0), HTML(value='')))"
      ]
     },
     "metadata": {},
     "output_type": "display_data"
    },
    {
     "name": "stdout",
     "output_type": "stream",
     "text": [
      "\n"
     ]
    }
   ],
   "source": [
    "metadata = prepare_segmentation_data(\"raw_images\", \"segmented\")"
   ]
  },
  {
   "cell_type": "code",
   "execution_count": 329,
   "metadata": {},
   "outputs": [],
   "source": [
    "df = pd.DataFrame(metadata, columns = [\"image\", \"mask\"])"
   ]
  },
  {
   "cell_type": "code",
   "execution_count": 330,
   "metadata": {
    "scrolled": true
   },
   "outputs": [
    {
     "data": {
      "text/html": [
       "<div>\n",
       "<style scoped>\n",
       "    .dataframe tbody tr th:only-of-type {\n",
       "        vertical-align: middle;\n",
       "    }\n",
       "\n",
       "    .dataframe tbody tr th {\n",
       "        vertical-align: top;\n",
       "    }\n",
       "\n",
       "    .dataframe thead th {\n",
       "        text-align: right;\n",
       "    }\n",
       "</style>\n",
       "<table border=\"1\" class=\"dataframe\">\n",
       "  <thead>\n",
       "    <tr style=\"text-align: right;\">\n",
       "      <th></th>\n",
       "      <th>image</th>\n",
       "      <th>mask</th>\n",
       "    </tr>\n",
       "  </thead>\n",
       "  <tbody>\n",
       "    <tr>\n",
       "      <th>0</th>\n",
       "      <td>training_data/images/real_0_9.jpg</td>\n",
       "      <td>training_data/masks/mask_0_9_0.jpg</td>\n",
       "    </tr>\n",
       "    <tr>\n",
       "      <th>1</th>\n",
       "      <td>training_data/images/real_0_9.jpg</td>\n",
       "      <td>training_data/masks/mask_0_9_1.jpg</td>\n",
       "    </tr>\n",
       "    <tr>\n",
       "      <th>2</th>\n",
       "      <td>training_data/images/real_0_10.jpg</td>\n",
       "      <td>training_data/masks/mask_0_10_0.jpg</td>\n",
       "    </tr>\n",
       "    <tr>\n",
       "      <th>3</th>\n",
       "      <td>training_data/images/real_0_10.jpg</td>\n",
       "      <td>training_data/masks/mask_0_10_1.jpg</td>\n",
       "    </tr>\n",
       "    <tr>\n",
       "      <th>4</th>\n",
       "      <td>training_data/images/real_0_11.jpg</td>\n",
       "      <td>training_data/masks/mask_0_11_0.jpg</td>\n",
       "    </tr>\n",
       "  </tbody>\n",
       "</table>\n",
       "</div>"
      ],
      "text/plain": [
       "                                image                                 mask\n",
       "0   training_data/images/real_0_9.jpg   training_data/masks/mask_0_9_0.jpg\n",
       "1   training_data/images/real_0_9.jpg   training_data/masks/mask_0_9_1.jpg\n",
       "2  training_data/images/real_0_10.jpg  training_data/masks/mask_0_10_0.jpg\n",
       "3  training_data/images/real_0_10.jpg  training_data/masks/mask_0_10_1.jpg\n",
       "4  training_data/images/real_0_11.jpg  training_data/masks/mask_0_11_0.jpg"
      ]
     },
     "execution_count": 330,
     "metadata": {},
     "output_type": "execute_result"
    }
   ],
   "source": [
    "df.head()"
   ]
  },
  {
   "cell_type": "code",
   "execution_count": 373,
   "metadata": {},
   "outputs": [],
   "source": [
    "df.to_csv(\"metadata.csv\", index = False )"
   ]
  }
 ],
 "metadata": {
  "kernelspec": {
   "display_name": "Python 3",
   "language": "python",
   "name": "python3"
  },
  "language_info": {
   "codemirror_mode": {
    "name": "ipython",
    "version": 3
   },
   "file_extension": ".py",
   "mimetype": "text/x-python",
   "name": "python",
   "nbconvert_exporter": "python",
   "pygments_lexer": "ipython3",
   "version": "3.7.3"
  }
 },
 "nbformat": 4,
 "nbformat_minor": 4
}
