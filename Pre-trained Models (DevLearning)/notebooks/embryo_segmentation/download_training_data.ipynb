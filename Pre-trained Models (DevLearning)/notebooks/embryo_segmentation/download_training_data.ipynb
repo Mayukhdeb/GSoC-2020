{
 "cells": [
  {
   "cell_type": "code",
   "execution_count": null,
   "metadata": {
    "scrolled": false
   },
   "outputs": [],
   "source": [
    "!pip install wget"
   ]
  },
  {
   "cell_type": "code",
   "execution_count": 4,
   "metadata": {},
   "outputs": [],
   "source": [
    "import pandas as pd\n",
    "import wget\n",
    "import sys\n",
    "from tqdm.notebook import tqdm"
   ]
  },
  {
   "cell_type": "code",
   "execution_count": 5,
   "metadata": {},
   "outputs": [],
   "source": [
    "def generate_urls(root_url, suffix, lower_num, upper_num, csv_filename):\n",
    "    \n",
    "    urls = []\n",
    "    for i in range(lower_num, upper_num+1):\n",
    "        \n",
    "        padded_num = (f\"{i:04}\")\n",
    "        url = root_url + padded_num + suffix\n",
    "#         print(url)\n",
    "        urls.append(url)\n",
    "    \n",
    "    df = pd.DataFrame(urls)\n",
    "    df.to_csv(csv_filename, index = False)\n",
    "    print(\"saved at --\", csv_filename)   "
   ]
  },
  {
   "cell_type": "code",
   "execution_count": 6,
   "metadata": {},
   "outputs": [],
   "source": [
    "root = \"https://www.wormimage.org/data/wild_herm/embryo/92_cell_embryo/92_cell_embryo_7.\"\n",
    "suffix = \".jpg\""
   ]
  },
  {
   "cell_type": "code",
   "execution_count": 14,
   "metadata": {},
   "outputs": [
    {
     "name": "stdout",
     "output_type": "stream",
     "text": [
      "saved at -- data/urls/train_urls.csv\n"
     ]
    }
   ],
   "source": [
    "generate_urls(root, suffix, 101,180, \"data/urls/train_urls.csv\")"
   ]
  },
  {
   "cell_type": "code",
   "execution_count": 15,
   "metadata": {},
   "outputs": [],
   "source": [
    "def bar_progress(current, total, width=80):\n",
    "    progress_message = \"Downloading: %d%% \" % (current / total * 100)\n",
    "    # Don't use print() as it will print in new line every time.\n",
    "    sys.stdout.write(\"\\r\" + progress_message)\n",
    "    sys.stdout.flush()\n",
    "\n",
    "    \n",
    "def download_images(csv_file, save_folder = \"data/original_images/\", bar = bar_progress):\n",
    "    \n",
    "    df = pd.read_csv(csv_file)\n",
    "    for i in tqdm(range(len(df))):\n",
    "        \n",
    "        url = df.loc[i].values[0]\n",
    "        number = url[-8:-4]\n",
    "\n",
    "        savename = save_folder + str(int(number))+ \".jpg\"\n",
    "        \n",
    "        try:        \n",
    "            wget.download(url, savename, bar = bar)\n",
    "        except:\n",
    "#             print(\"url not found, skipped one image\")\n",
    "            continue\n",
    "    print(\"Downloaded in -- \", save_folder)\n",
    "    "
   ]
  },
  {
   "cell_type": "code",
   "execution_count": 16,
   "metadata": {},
   "outputs": [
    {
     "data": {
      "application/vnd.jupyter.widget-view+json": {
       "model_id": "497365c0e068431c9d20f106079f5c1b",
       "version_major": 2,
       "version_minor": 0
      },
      "text/plain": [
       "HBox(children=(FloatProgress(value=0.0, max=80.0), HTML(value='')))"
      ]
     },
     "metadata": {},
     "output_type": "display_data"
    },
    {
     "name": "stdout",
     "output_type": "stream",
     "text": [
      "Downloading: 100% \n",
      "Downloaded in --  data/original_images/\n"
     ]
    }
   ],
   "source": [
    "download_images(\"data/urls/train_urls.csv\",\n",
    "               save_folder = \"data/original_images/\"\n",
    "               )"
   ]
  },
  {
   "cell_type": "code",
   "execution_count": null,
   "metadata": {},
   "outputs": [],
   "source": []
  }
 ],
 "metadata": {
  "kernelspec": {
   "display_name": "Python 3",
   "language": "python",
   "name": "python3"
  },
  "language_info": {
   "codemirror_mode": {
    "name": "ipython",
    "version": 3
   },
   "file_extension": ".py",
   "mimetype": "text/x-python",
   "name": "python",
   "nbconvert_exporter": "python",
   "pygments_lexer": "ipython3",
   "version": "3.7.3"
  }
 },
 "nbformat": 4,
 "nbformat_minor": 4
}
