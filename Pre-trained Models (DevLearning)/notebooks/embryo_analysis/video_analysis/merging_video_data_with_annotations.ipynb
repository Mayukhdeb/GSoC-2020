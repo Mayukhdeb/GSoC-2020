{
 "cells": [
  {
   "cell_type": "markdown",
   "metadata": {},
   "source": [
    "# Objective: properly format the annotations from the EPIC dataset to match the video file\n",
    " The metadata associated with the EPIC data does not preperly match the video, it would need some redistribution and reformatting in order to obtain better results from a deep learning model."
   ]
  },
  {
   "cell_type": "code",
   "execution_count": 1,
   "metadata": {},
   "outputs": [],
   "source": [
    "import os\n",
    "import cv2 \n",
    "import numpy as np\n",
    "import matplotlib.pyplot as plt\n",
    "import pandas as pd\n",
    "import shutil\n",
    "from tqdm.notebook import tqdm\n",
    "from scipy.interpolate import interp1d\n"
   ]
  },
  {
   "cell_type": "markdown",
   "metadata": {},
   "source": [
    "## Extracting all the frames from the videos\n",
    "* Also had to remove the first and the last frames (with `frames_paths[1:-1]` ) from the list because they were corrupt"
   ]
  },
  {
   "cell_type": "code",
   "execution_count": 2,
   "metadata": {},
   "outputs": [],
   "source": [
    "def video_to_frames(video_path, main_folder_path, sub_folder_path, size = (256,256)):\n",
    "    frames_paths = []\n",
    "    try:\n",
    "        os.mkdir(main_folder_path + \"/\" + sub_folder_path)\n",
    "\n",
    "    except:\n",
    "        shutil.rmtree(main_folder_path + \"/\" + sub_folder_path)\n",
    "        os.mkdir(main_folder_path + \"/\" + sub_folder_path)\n",
    "        \n",
    "    vidObj = cv2.VideoCapture(video_path)   \n",
    "    success = 1\n",
    "    count = 0\n",
    "    while success: \n",
    "        success, image = vidObj.read() \n",
    "        fmt_name = main_folder_path + \"/\"+ sub_folder_path + \"/\" + str(count)+ \".jpg\"\n",
    "#         print(fmt_name)\n",
    "        try:     \n",
    "#             image_gray = cv2.cvtColor(image,  cv2.COLOR_BGR2GRAY)\n",
    "#             image_gray_resized = cv2.resize(image_gray, size)\n",
    "#             cv2.imwrite(fmt_name, image_gray_resized)\n",
    "            frames_paths.append(fmt_name)\n",
    "            count += 1\n",
    "        except:\n",
    "            pass \n",
    "    print (\"saved \", count-1, \" frames at \", main_folder_path + \"/\" + sub_folder_path)\n",
    "    return np.array(frames_paths)"
   ]
  },
  {
   "cell_type": "code",
   "execution_count": 181,
   "metadata": {
    "scrolled": false
   },
   "outputs": [
    {
     "name": "stdout",
     "output_type": "stream",
     "text": [
      "saved  242  frames at  frames/20089219_unc-130_9E1_8_L2\n",
      "after removing bad frames in the beginning and the end :  241\n"
     ]
    }
   ],
   "source": [
    "frames_folder = \"frames\"\n",
    "\n",
    "target_path = \"videos/20089219_unc-130_9E1_8_L2.mov\"\n",
    "frames_paths = video_to_frames(\n",
    "                                video_path = target_path,\n",
    "                                main_folder_path = frames_folder,\n",
    "                                sub_folder_path = target_path[7:-4]\n",
    "                               )\n",
    "frames_paths = frames_paths[1:-1]\n",
    "print(\"after removing bad frames in the beginning and the end : \", len(frames_paths))"
   ]
  },
  {
   "cell_type": "markdown",
   "metadata": {},
   "source": [
    "## Some metadata from the website that would be useful\n",
    "* Imaged Timepoints = 244\n",
    "* Edited Timepoints = 130\n",
    "\n",
    "So this means that there are 130 possible time values distributed  among the 244 frames in the video. Therefore we have to now distribute 24 frames among the 130 time stamps. "
   ]
  },
  {
   "cell_type": "code",
   "execution_count": 182,
   "metadata": {
    "scrolled": true
   },
   "outputs": [
    {
     "data": {
      "text/html": [
       "<div>\n",
       "<style scoped>\n",
       "    .dataframe tbody tr th:only-of-type {\n",
       "        vertical-align: middle;\n",
       "    }\n",
       "\n",
       "    .dataframe tbody tr th {\n",
       "        vertical-align: top;\n",
       "    }\n",
       "\n",
       "    .dataframe thead th {\n",
       "        text-align: right;\n",
       "    }\n",
       "</style>\n",
       "<table border=\"1\" class=\"dataframe\">\n",
       "  <thead>\n",
       "    <tr style=\"text-align: right;\">\n",
       "      <th></th>\n",
       "      <th>cellTime</th>\n",
       "      <th>cell</th>\n",
       "      <th>time</th>\n",
       "      <th>none</th>\n",
       "      <th>global</th>\n",
       "      <th>local</th>\n",
       "      <th>blot</th>\n",
       "      <th>cross</th>\n",
       "      <th>z</th>\n",
       "      <th>x</th>\n",
       "      <th>y</th>\n",
       "      <th>size</th>\n",
       "      <th>gweight</th>\n",
       "    </tr>\n",
       "  </thead>\n",
       "  <tbody>\n",
       "    <tr>\n",
       "      <th>0</th>\n",
       "      <td>AB:1</td>\n",
       "      <td>AB</td>\n",
       "      <td>1</td>\n",
       "      <td>27095</td>\n",
       "      <td>2095</td>\n",
       "      <td>-990</td>\n",
       "      <td>-990</td>\n",
       "      <td>2095</td>\n",
       "      <td>11.9</td>\n",
       "      <td>243</td>\n",
       "      <td>261</td>\n",
       "      <td>80</td>\n",
       "      <td>1559363</td>\n",
       "    </tr>\n",
       "    <tr>\n",
       "      <th>1</th>\n",
       "      <td>ABa:2</td>\n",
       "      <td>ABa</td>\n",
       "      <td>2</td>\n",
       "      <td>27264</td>\n",
       "      <td>2264</td>\n",
       "      <td>-1026</td>\n",
       "      <td>-1056</td>\n",
       "      <td>2264</td>\n",
       "      <td>11.1</td>\n",
       "      <td>234</td>\n",
       "      <td>281</td>\n",
       "      <td>52</td>\n",
       "      <td>474291</td>\n",
       "    </tr>\n",
       "    <tr>\n",
       "      <th>2</th>\n",
       "      <td>ABa:3</td>\n",
       "      <td>ABa</td>\n",
       "      <td>3</td>\n",
       "      <td>27796</td>\n",
       "      <td>2796</td>\n",
       "      <td>-465</td>\n",
       "      <td>-465</td>\n",
       "      <td>2796</td>\n",
       "      <td>11.0</td>\n",
       "      <td>216</td>\n",
       "      <td>262</td>\n",
       "      <td>58</td>\n",
       "      <td>546495</td>\n",
       "    </tr>\n",
       "    <tr>\n",
       "      <th>3</th>\n",
       "      <td>ABa:4</td>\n",
       "      <td>ABa</td>\n",
       "      <td>4</td>\n",
       "      <td>27428</td>\n",
       "      <td>2428</td>\n",
       "      <td>-1129</td>\n",
       "      <td>-1129</td>\n",
       "      <td>2428</td>\n",
       "      <td>11.3</td>\n",
       "      <td>212</td>\n",
       "      <td>274</td>\n",
       "      <td>60</td>\n",
       "      <td>549867</td>\n",
       "    </tr>\n",
       "    <tr>\n",
       "      <th>4</th>\n",
       "      <td>ABa:5</td>\n",
       "      <td>ABa</td>\n",
       "      <td>5</td>\n",
       "      <td>26827</td>\n",
       "      <td>1827</td>\n",
       "      <td>-992</td>\n",
       "      <td>-992</td>\n",
       "      <td>1827</td>\n",
       "      <td>12.1</td>\n",
       "      <td>195</td>\n",
       "      <td>277</td>\n",
       "      <td>58</td>\n",
       "      <td>500943</td>\n",
       "    </tr>\n",
       "  </tbody>\n",
       "</table>\n",
       "</div>"
      ],
      "text/plain": [
       "  cellTime cell  time   none  global  local  blot  cross     z    x    y  \\\n",
       "0     AB:1   AB     1  27095    2095   -990  -990   2095  11.9  243  261   \n",
       "1    ABa:2  ABa     2  27264    2264  -1026 -1056   2264  11.1  234  281   \n",
       "2    ABa:3  ABa     3  27796    2796   -465  -465   2796  11.0  216  262   \n",
       "3    ABa:4  ABa     4  27428    2428  -1129 -1129   2428  11.3  212  274   \n",
       "4    ABa:5  ABa     5  26827    1827   -992  -992   1827  12.1  195  277   \n",
       "\n",
       "   size  gweight  \n",
       "0    80  1559363  \n",
       "1    52   474291  \n",
       "2    58   546495  \n",
       "3    60   549867  \n",
       "4    58   500943  "
      ]
     },
     "execution_count": 182,
     "metadata": {},
     "output_type": "execute_result"
    }
   ],
   "source": [
    "df = pd.read_csv(\"zipped_CD_Files/CD20089219_unc-130_9E1_8_L2.csv\")\n",
    "time_vals = df.time.unique()\n",
    "df.head(5)"
   ]
  },
  {
   "cell_type": "markdown",
   "metadata": {},
   "source": [
    "## Viewing the new distribution\n",
    "Since 244 / 130 is approximately 2, so there are 2 frames per time stamp mostly "
   ]
  },
  {
   "cell_type": "code",
   "execution_count": 3,
   "metadata": {},
   "outputs": [],
   "source": [
    "def uniform_chop_list(frames_paths, max_time):\n",
    "    num_frames = len(frames_paths)\n",
    "    interp = interp1d([0,num_frames], [0, max_time])\n",
    "    indices = []\n",
    "    for i in range(num_frames):\n",
    "        indices.append(int(interp(i)))\n",
    "    final_2d = []\n",
    "    \n",
    "    for i in range(max_time):\n",
    "        row = []\n",
    "        for j in indices:\n",
    "            if j == i:\n",
    "                row.append(frames_paths[i])\n",
    "        final_2d.append(row)\n",
    "        \n",
    "    return final_2d"
   ]
  },
  {
   "cell_type": "code",
   "execution_count": 184,
   "metadata": {},
   "outputs": [],
   "source": [
    "chopped_paths = uniform_chop_list(frames_paths, len(time_vals))"
   ]
  },
  {
   "cell_type": "code",
   "execution_count": 185,
   "metadata": {
    "scrolled": false
   },
   "outputs": [
    {
     "data": {
      "text/plain": [
       "[['frames/20089219_unc-130_9E1_8_L2/20.jpg',\n",
       "  'frames/20089219_unc-130_9E1_8_L2/20.jpg'],\n",
       " ['frames/20089219_unc-130_9E1_8_L2/21.jpg'],\n",
       " ['frames/20089219_unc-130_9E1_8_L2/22.jpg',\n",
       "  'frames/20089219_unc-130_9E1_8_L2/22.jpg'],\n",
       " ['frames/20089219_unc-130_9E1_8_L2/23.jpg'],\n",
       " ['frames/20089219_unc-130_9E1_8_L2/24.jpg',\n",
       "  'frames/20089219_unc-130_9E1_8_L2/24.jpg'],\n",
       " ['frames/20089219_unc-130_9E1_8_L2/25.jpg'],\n",
       " ['frames/20089219_unc-130_9E1_8_L2/26.jpg',\n",
       "  'frames/20089219_unc-130_9E1_8_L2/26.jpg']]"
      ]
     },
     "execution_count": 185,
     "metadata": {},
     "output_type": "execute_result"
    }
   ],
   "source": [
    "chopped_paths[19:26]"
   ]
  },
  {
   "cell_type": "markdown",
   "metadata": {},
   "source": [
    "## Loading up the original annotations which can be found [here](http://epic.gs.washington.edu/details/ceh-32.html)"
   ]
  },
  {
   "cell_type": "code",
   "execution_count": 4,
   "metadata": {},
   "outputs": [],
   "source": [
    "def generate_compact_cellnames(cellname_column_values, size = 1):\n",
    "    c = []\n",
    "    for i in cellname_column_values:\n",
    "        short = i[:size]\n",
    "        c.append(short)\n",
    "    return c \n",
    "\n",
    "def slice_df_wrt_cellname(df, compact_cellname):\n",
    "    df_slice = df[df[\"compact_cellname\"] == compact_cellname]\n",
    "    return df_slice"
   ]
  },
  {
   "cell_type": "markdown",
   "metadata": {},
   "source": [
    "## Adding a new column `compact_cellname`\n",
    " `compact_cellname` would give us info about the cell’s lineage (or the name of the cell itself, depending on the value of time) and not necessarily it’s precise name.`"
   ]
  },
  {
   "cell_type": "code",
   "execution_count": 187,
   "metadata": {},
   "outputs": [
    {
     "data": {
      "text/html": [
       "<div>\n",
       "<style scoped>\n",
       "    .dataframe tbody tr th:only-of-type {\n",
       "        vertical-align: middle;\n",
       "    }\n",
       "\n",
       "    .dataframe tbody tr th {\n",
       "        vertical-align: top;\n",
       "    }\n",
       "\n",
       "    .dataframe thead th {\n",
       "        text-align: right;\n",
       "    }\n",
       "</style>\n",
       "<table border=\"1\" class=\"dataframe\">\n",
       "  <thead>\n",
       "    <tr style=\"text-align: right;\">\n",
       "      <th></th>\n",
       "      <th>cellTime</th>\n",
       "      <th>cell</th>\n",
       "      <th>time</th>\n",
       "      <th>none</th>\n",
       "      <th>global</th>\n",
       "      <th>local</th>\n",
       "      <th>blot</th>\n",
       "      <th>cross</th>\n",
       "      <th>z</th>\n",
       "      <th>x</th>\n",
       "      <th>y</th>\n",
       "      <th>size</th>\n",
       "      <th>gweight</th>\n",
       "      <th>compact_cellname</th>\n",
       "    </tr>\n",
       "  </thead>\n",
       "  <tbody>\n",
       "    <tr>\n",
       "      <th>0</th>\n",
       "      <td>AB:1</td>\n",
       "      <td>AB</td>\n",
       "      <td>1</td>\n",
       "      <td>27095</td>\n",
       "      <td>2095</td>\n",
       "      <td>-990</td>\n",
       "      <td>-990</td>\n",
       "      <td>2095</td>\n",
       "      <td>11.9</td>\n",
       "      <td>243</td>\n",
       "      <td>261</td>\n",
       "      <td>80</td>\n",
       "      <td>1559363</td>\n",
       "      <td>A</td>\n",
       "    </tr>\n",
       "    <tr>\n",
       "      <th>1</th>\n",
       "      <td>ABa:2</td>\n",
       "      <td>ABa</td>\n",
       "      <td>2</td>\n",
       "      <td>27264</td>\n",
       "      <td>2264</td>\n",
       "      <td>-1026</td>\n",
       "      <td>-1056</td>\n",
       "      <td>2264</td>\n",
       "      <td>11.1</td>\n",
       "      <td>234</td>\n",
       "      <td>281</td>\n",
       "      <td>52</td>\n",
       "      <td>474291</td>\n",
       "      <td>A</td>\n",
       "    </tr>\n",
       "    <tr>\n",
       "      <th>2</th>\n",
       "      <td>ABa:3</td>\n",
       "      <td>ABa</td>\n",
       "      <td>3</td>\n",
       "      <td>27796</td>\n",
       "      <td>2796</td>\n",
       "      <td>-465</td>\n",
       "      <td>-465</td>\n",
       "      <td>2796</td>\n",
       "      <td>11.0</td>\n",
       "      <td>216</td>\n",
       "      <td>262</td>\n",
       "      <td>58</td>\n",
       "      <td>546495</td>\n",
       "      <td>A</td>\n",
       "    </tr>\n",
       "    <tr>\n",
       "      <th>3</th>\n",
       "      <td>ABa:4</td>\n",
       "      <td>ABa</td>\n",
       "      <td>4</td>\n",
       "      <td>27428</td>\n",
       "      <td>2428</td>\n",
       "      <td>-1129</td>\n",
       "      <td>-1129</td>\n",
       "      <td>2428</td>\n",
       "      <td>11.3</td>\n",
       "      <td>212</td>\n",
       "      <td>274</td>\n",
       "      <td>60</td>\n",
       "      <td>549867</td>\n",
       "      <td>A</td>\n",
       "    </tr>\n",
       "    <tr>\n",
       "      <th>4</th>\n",
       "      <td>ABa:5</td>\n",
       "      <td>ABa</td>\n",
       "      <td>5</td>\n",
       "      <td>26827</td>\n",
       "      <td>1827</td>\n",
       "      <td>-992</td>\n",
       "      <td>-992</td>\n",
       "      <td>1827</td>\n",
       "      <td>12.1</td>\n",
       "      <td>195</td>\n",
       "      <td>277</td>\n",
       "      <td>58</td>\n",
       "      <td>500943</td>\n",
       "      <td>A</td>\n",
       "    </tr>\n",
       "  </tbody>\n",
       "</table>\n",
       "</div>"
      ],
      "text/plain": [
       "  cellTime cell  time   none  global  local  blot  cross     z    x    y  \\\n",
       "0     AB:1   AB     1  27095    2095   -990  -990   2095  11.9  243  261   \n",
       "1    ABa:2  ABa     2  27264    2264  -1026 -1056   2264  11.1  234  281   \n",
       "2    ABa:3  ABa     3  27796    2796   -465  -465   2796  11.0  216  262   \n",
       "3    ABa:4  ABa     4  27428    2428  -1129 -1129   2428  11.3  212  274   \n",
       "4    ABa:5  ABa     5  26827    1827   -992  -992   1827  12.1  195  277   \n",
       "\n",
       "   size  gweight compact_cellname  \n",
       "0    80  1559363                A  \n",
       "1    52   474291                A  \n",
       "2    58   546495                A  \n",
       "3    60   549867                A  \n",
       "4    58   500943                A  "
      ]
     },
     "execution_count": 187,
     "metadata": {},
     "output_type": "execute_result"
    }
   ],
   "source": [
    "df[\"compact_cellname\"] = generate_compact_cellnames(df[\"cell\"].values)\n",
    "df.head()"
   ]
  },
  {
   "cell_type": "markdown",
   "metadata": {},
   "source": [
    "## Finding the population of each cell family at a given time \n",
    "* `find_num_cells_with_time()` is pretty self explanatory, finds the number of cells for all possible time values in the dataset\n",
    "*  `generate_cell_wise_population_plots()`generates a 2D array with the time values and the respective lineage population for each cell family "
   ]
  },
  {
   "cell_type": "code",
   "execution_count": 5,
   "metadata": {},
   "outputs": [],
   "source": [
    "def find_num_cells(df, time_val):\n",
    "    df_time = df[df[\"time\"] == time_val]\n",
    "    return len(df_time.cell.unique())\n",
    "\n",
    "def find_num_cells_with_time(df):\n",
    "    times = df.time.unique()\n",
    "    num_cells = [find_num_cells(df, time) for time in times]\n",
    "    \n",
    "    return times, num_cells # x, y axis \n",
    "\n",
    "def generate_cell_wise_population_plots(df):\n",
    "    compact_cellnames = df[\"compact_cellname\"].unique()\n",
    "    plots =  []\n",
    "    for name in compact_cellnames:\n",
    "        sliced_df = slice_df_wrt_cellname(df, compact_cellname = name)\n",
    "\n",
    "        times , num_cells = find_num_cells_with_time(sliced_df)\n",
    "        plots.append([times, num_cells])\n",
    "    return np.array(plots)"
   ]
  },
  {
   "cell_type": "code",
   "execution_count": 189,
   "metadata": {},
   "outputs": [],
   "source": [
    "plots = generate_cell_wise_population_plots(df)"
   ]
  },
  {
   "cell_type": "markdown",
   "metadata": {},
   "source": [
    "## Plotting the population with respect to time "
   ]
  },
  {
   "cell_type": "code",
   "execution_count": 190,
   "metadata": {
    "scrolled": false
   },
   "outputs": [
    {
     "data": {
      "image/png": "[encoded data removed]",
      "text/plain": [
       "<Figure size 1080x504 with 1 Axes>"
      ]
     },
     "metadata": {
      "needs_background": "light"
     },
     "output_type": "display_data"
    }
   ],
   "source": [
    "plt.rcParams['figure.figsize'] =15, 7\n",
    "\n",
    "compact_cellnames = df[\"compact_cellname\"].unique()\n",
    "\n",
    "for i in range (len(plots)):\n",
    "    plt.plot(plots[i][0], plots[i][1], label = compact_cellnames[i] )\n",
    "\n",
    "    \n",
    "plt.grid()\n",
    "# plt.axvline(x = 200, linestyle = \"--\", color = \"red\")\n",
    "plt.text(x = 127, y = 230, s = 'L1 stage',rotation=90, fontsize = 20)\n",
    "plt.legend(fontsize = 20)\n",
    "plt.xlabel(\"time\", fontsize = 20)\n",
    "plt.ylabel(\"number of cells\", fontsize = 20)\n",
    "plt.show()"
   ]
  },
  {
   "cell_type": "code",
   "execution_count": 191,
   "metadata": {},
   "outputs": [
    {
     "data": {
      "text/plain": [
       "array(['A', 'P', 'E', 'M', 'C', 'D', 'Z'], dtype=object)"
      ]
     },
     "execution_count": 191,
     "metadata": {},
     "output_type": "execute_result"
    }
   ],
   "source": [
    "compact_cellnames"
   ]
  },
  {
   "cell_type": "code",
   "execution_count": 192,
   "metadata": {},
   "outputs": [
    {
     "name": "stdout",
     "output_type": "stream",
     "text": [
      "(7, 161)\n"
     ]
    }
   ],
   "source": [
    "populations = [pop[1] for pop in plots]\n",
    "ideal_len = len(populations[0])\n",
    "\n",
    "for i in range (len(populations)):\n",
    "    row = populations[i]\n",
    "    \n",
    "    while len(row) <= ideal_len:\n",
    "        row.insert(0,0)\n",
    "    populations[i] = row\n",
    "    \n",
    "populations = np.array(populations)\n",
    "print(populations.shape)"
   ]
  },
  {
   "cell_type": "markdown",
   "metadata": {},
   "source": [
    "## Transposing the data to get the population of each family with time \n",
    "This would be a much better format for deep learning models to train upon"
   ]
  },
  {
   "cell_type": "code",
   "execution_count": 193,
   "metadata": {
    "scrolled": true
   },
   "outputs": [
    {
     "name": "stdout",
     "output_type": "stream",
     "text": [
      "shape =  (161, 7)\n"
     ]
    },
    {
     "data": {
      "text/plain": [
       "array([[0, 0, 0, 0, 0, 0, 0],\n",
       "       [1, 0, 0, 0, 0, 0, 0],\n",
       "       [2, 0, 0, 0, 0, 0, 0],\n",
       "       [2, 0, 1, 0, 0, 0, 0],\n",
       "       [2, 0, 1, 0, 0, 0, 0]])"
      ]
     },
     "execution_count": 193,
     "metadata": {},
     "output_type": "execute_result"
    }
   ],
   "source": [
    "pop_transpose = np.transpose(populations)\n",
    "print (\"shape = \", pop_transpose.shape)\n",
    "pop_transpose[:5]"
   ]
  },
  {
   "cell_type": "code",
   "execution_count": 194,
   "metadata": {},
   "outputs": [],
   "source": [
    "final_data= []\n",
    "for i in range(len(chopped_paths)):\n",
    "    row = chopped_paths[i]\n",
    "    for name in row:\n",
    "        data_row = pop_transpose[i]\n",
    "        final_data.append(data_row)\n",
    "final_data = np.array(final_data)"
   ]
  },
  {
   "cell_type": "code",
   "execution_count": 195,
   "metadata": {},
   "outputs": [
    {
     "data": {
      "text/html": [
       "<div>\n",
       "<style scoped>\n",
       "    .dataframe tbody tr th:only-of-type {\n",
       "        vertical-align: middle;\n",
       "    }\n",
       "\n",
       "    .dataframe tbody tr th {\n",
       "        vertical-align: top;\n",
       "    }\n",
       "\n",
       "    .dataframe thead th {\n",
       "        text-align: right;\n",
       "    }\n",
       "</style>\n",
       "<table border=\"1\" class=\"dataframe\">\n",
       "  <thead>\n",
       "    <tr style=\"text-align: right;\">\n",
       "      <th></th>\n",
       "      <th>filenames</th>\n",
       "      <th>A</th>\n",
       "      <th>P</th>\n",
       "      <th>E</th>\n",
       "      <th>M</th>\n",
       "      <th>C</th>\n",
       "      <th>D</th>\n",
       "      <th>Z</th>\n",
       "    </tr>\n",
       "  </thead>\n",
       "  <tbody>\n",
       "    <tr>\n",
       "      <th>0</th>\n",
       "      <td>frames/20089219_unc-130_9E1_8_L2/1.jpg</td>\n",
       "      <td>0</td>\n",
       "      <td>0</td>\n",
       "      <td>0</td>\n",
       "      <td>0</td>\n",
       "      <td>0</td>\n",
       "      <td>0</td>\n",
       "      <td>0</td>\n",
       "    </tr>\n",
       "    <tr>\n",
       "      <th>1</th>\n",
       "      <td>frames/20089219_unc-130_9E1_8_L2/2.jpg</td>\n",
       "      <td>0</td>\n",
       "      <td>0</td>\n",
       "      <td>0</td>\n",
       "      <td>0</td>\n",
       "      <td>0</td>\n",
       "      <td>0</td>\n",
       "      <td>0</td>\n",
       "    </tr>\n",
       "    <tr>\n",
       "      <th>2</th>\n",
       "      <td>frames/20089219_unc-130_9E1_8_L2/3.jpg</td>\n",
       "      <td>1</td>\n",
       "      <td>0</td>\n",
       "      <td>0</td>\n",
       "      <td>0</td>\n",
       "      <td>0</td>\n",
       "      <td>0</td>\n",
       "      <td>0</td>\n",
       "    </tr>\n",
       "    <tr>\n",
       "      <th>3</th>\n",
       "      <td>frames/20089219_unc-130_9E1_8_L2/4.jpg</td>\n",
       "      <td>1</td>\n",
       "      <td>0</td>\n",
       "      <td>0</td>\n",
       "      <td>0</td>\n",
       "      <td>0</td>\n",
       "      <td>0</td>\n",
       "      <td>0</td>\n",
       "    </tr>\n",
       "    <tr>\n",
       "      <th>4</th>\n",
       "      <td>frames/20089219_unc-130_9E1_8_L2/5.jpg</td>\n",
       "      <td>2</td>\n",
       "      <td>0</td>\n",
       "      <td>0</td>\n",
       "      <td>0</td>\n",
       "      <td>0</td>\n",
       "      <td>0</td>\n",
       "      <td>0</td>\n",
       "    </tr>\n",
       "    <tr>\n",
       "      <th>5</th>\n",
       "      <td>frames/20089219_unc-130_9E1_8_L2/6.jpg</td>\n",
       "      <td>2</td>\n",
       "      <td>0</td>\n",
       "      <td>1</td>\n",
       "      <td>0</td>\n",
       "      <td>0</td>\n",
       "      <td>0</td>\n",
       "      <td>0</td>\n",
       "    </tr>\n",
       "    <tr>\n",
       "      <th>6</th>\n",
       "      <td>frames/20089219_unc-130_9E1_8_L2/7.jpg</td>\n",
       "      <td>2</td>\n",
       "      <td>0</td>\n",
       "      <td>1</td>\n",
       "      <td>0</td>\n",
       "      <td>0</td>\n",
       "      <td>0</td>\n",
       "      <td>0</td>\n",
       "    </tr>\n",
       "    <tr>\n",
       "      <th>7</th>\n",
       "      <td>frames/20089219_unc-130_9E1_8_L2/8.jpg</td>\n",
       "      <td>2</td>\n",
       "      <td>0</td>\n",
       "      <td>1</td>\n",
       "      <td>0</td>\n",
       "      <td>0</td>\n",
       "      <td>0</td>\n",
       "      <td>0</td>\n",
       "    </tr>\n",
       "    <tr>\n",
       "      <th>8</th>\n",
       "      <td>frames/20089219_unc-130_9E1_8_L2/9.jpg</td>\n",
       "      <td>2</td>\n",
       "      <td>0</td>\n",
       "      <td>1</td>\n",
       "      <td>0</td>\n",
       "      <td>0</td>\n",
       "      <td>0</td>\n",
       "      <td>0</td>\n",
       "    </tr>\n",
       "    <tr>\n",
       "      <th>9</th>\n",
       "      <td>frames/20089219_unc-130_9E1_8_L2/10.jpg</td>\n",
       "      <td>2</td>\n",
       "      <td>0</td>\n",
       "      <td>1</td>\n",
       "      <td>0</td>\n",
       "      <td>0</td>\n",
       "      <td>0</td>\n",
       "      <td>0</td>\n",
       "    </tr>\n",
       "  </tbody>\n",
       "</table>\n",
       "</div>"
      ],
      "text/plain": [
       "                                 filenames  A  P  E  M  C  D  Z\n",
       "0   frames/20089219_unc-130_9E1_8_L2/1.jpg  0  0  0  0  0  0  0\n",
       "1   frames/20089219_unc-130_9E1_8_L2/2.jpg  0  0  0  0  0  0  0\n",
       "2   frames/20089219_unc-130_9E1_8_L2/3.jpg  1  0  0  0  0  0  0\n",
       "3   frames/20089219_unc-130_9E1_8_L2/4.jpg  1  0  0  0  0  0  0\n",
       "4   frames/20089219_unc-130_9E1_8_L2/5.jpg  2  0  0  0  0  0  0\n",
       "5   frames/20089219_unc-130_9E1_8_L2/6.jpg  2  0  1  0  0  0  0\n",
       "6   frames/20089219_unc-130_9E1_8_L2/7.jpg  2  0  1  0  0  0  0\n",
       "7   frames/20089219_unc-130_9E1_8_L2/8.jpg  2  0  1  0  0  0  0\n",
       "8   frames/20089219_unc-130_9E1_8_L2/9.jpg  2  0  1  0  0  0  0\n",
       "9  frames/20089219_unc-130_9E1_8_L2/10.jpg  2  0  1  0  0  0  0"
      ]
     },
     "execution_count": 195,
     "metadata": {},
     "output_type": "execute_result"
    }
   ],
   "source": [
    "filenames  = pd.DataFrame(frames_paths)\n",
    "# print(filenames.head())\n",
    "filenames.columns = [\"filenames\"]\n",
    "\n",
    "train_df = pd.DataFrame(final_data)\n",
    "train_df.columns = compact_cellnames\n",
    "\n",
    "train_df = pd.concat([filenames, train_df], axis = 1)\n",
    "train_df.head(10)"
   ]
  },
  {
   "cell_type": "markdown",
   "metadata": {},
   "source": [
    "## Scale up for multiple video files \n",
    "* Basically the same process as above but in one single function "
   ]
  },
  {
   "cell_type": "code",
   "execution_count": 7,
   "metadata": {},
   "outputs": [],
   "source": [
    "def video_csv_pairs_to_training_data(video_path,csv_path, main_foldername, drop_first_last_frame = True):\n",
    "    \n",
    "    df = pd.read_csv(csv_path)\n",
    "    \n",
    "    df[\"compact_cellname\"] = generate_compact_cellnames(df[\"cell\"].values)\n",
    "    compact_cellnames = df[\"compact_cellname\"].unique()\n",
    "    sub_foldername = video_path[7:-4]\n",
    "#     print(sub_foldername)\n",
    "    \n",
    "    \n",
    "    if len(compact_cellnames) == 7:\n",
    "        \n",
    "        \n",
    "        frames_paths = video_to_frames(\n",
    "                                video_path = video_path,\n",
    "                                main_folder_path = main_foldername,\n",
    "                                sub_folder_path = sub_foldername\n",
    "                               )\n",
    "        if drop_first_last_frame == True:\n",
    "            frames_paths = frames_paths[1:-1]\n",
    "            \n",
    "            \n",
    "        times = df.time.unique()\n",
    "        num_chops = len(times)\n",
    "        chopped_paths = uniform_chop_list(frames_paths = frames_paths, max_time = num_chops)\n",
    "        \n",
    "        plots = generate_cell_wise_population_plots(df)\n",
    "\n",
    "        populations = [pop[1] for pop in plots]\n",
    "        ideal_len = len(populations[0])\n",
    "\n",
    "        for i in range (len(populations)):\n",
    "            row = populations[i]\n",
    "\n",
    "            while len(row) <= ideal_len:\n",
    "                row.insert(0,0)\n",
    "            populations[i] = row\n",
    "\n",
    "        populations = np.array(populations)\n",
    "        pop_transpose = np.transpose(populations)\n",
    "\n",
    "        final_data= []\n",
    "        for i in range(len(chopped_paths)):\n",
    "            row = chopped_paths[i]\n",
    "            for name in row:\n",
    "                data_row = pop_transpose[i]\n",
    "                final_data.append(data_row)\n",
    "        final_data = np.array(final_data)    \n",
    "\n",
    "        filenames  = pd.DataFrame(frames_paths)\n",
    "        filenames.columns = [\"filenames\"]\n",
    "\n",
    "        train_df = pd.DataFrame(final_data)\n",
    "#         print(compact_cellnames)\n",
    "        train_df.columns = compact_cellnames\n",
    "\n",
    "        train_df = pd.concat([filenames, train_df], axis = 1)\n",
    "#         print(train_df.head())\n",
    "\n",
    "        return train_df\n",
    "    else:\n",
    "        print(\" \\n skipped \", csv_path, \"because it doesn't contain all the cell lineages \\n\")\n",
    "        return None"
   ]
  },
  {
   "cell_type": "code",
   "execution_count": 8,
   "metadata": {},
   "outputs": [],
   "source": [
    "def mass_conversion_to_frames_and_build_training_data(videos_folder, csv_folder, frames_foldername, train_tag = \"L1\"):\n",
    "    videos = os.listdir(videos_folder)\n",
    "    ids = [i[:-4] for i in videos]\n",
    "    \n",
    "    dfs = []\n",
    "    \n",
    "    for i in tqdm(range(len(ids))):\n",
    "        \n",
    "        csv_filename = csv_folder + \"/\" + \"CD\" + ids[i] + \".csv\"\n",
    "        video_filename = videos_folder + \"/\" + ids[i] + \".mov\"\n",
    "        \n",
    "        try:\n",
    "            df = video_csv_pairs_to_training_data(video_path = video_filename,\n",
    "                                             csv_path = csv_filename, \n",
    "                                             main_foldername = frames_foldername)\n",
    "        except:\n",
    "            print(\" \\n **********         error occurred, skipping...        ********* \\n \")\n",
    "        if df is not None:\n",
    "            dfs.append(df)\n",
    "    return dfs"
   ]
  },
  {
   "cell_type": "code",
   "execution_count": null,
   "metadata": {
    "scrolled": true
   },
   "outputs": [],
   "source": [
    "!rm -rf frames/* \n",
    "dfs = mass_conversion_to_frames_and_build_training_data(videos_folder = \"videos\",\n",
    "                                                  csv_folder = \"zipped_CD_Files\",\n",
    "                                                  frames_foldername = \"frames\")"
   ]
  },
  {
   "cell_type": "markdown",
   "metadata": {},
   "source": [
    "## Concatenating the data for the 2 different files that were processed and saving them /\n"
   ]
  },
  {
   "cell_type": "code",
   "execution_count": 10,
   "metadata": {},
   "outputs": [
    {
     "name": "stdout",
     "output_type": "stream",
     "text": [
      "<class 'pandas.core.frame.DataFrame'>\n",
      "Int64Index: 62667 entries, 0 to 244\n",
      "Data columns (total 8 columns):\n",
      "filenames    62667 non-null object\n",
      "A            62667 non-null int64\n",
      "E            62667 non-null int64\n",
      "M            62667 non-null int64\n",
      "P            62667 non-null int64\n",
      "C            62667 non-null int64\n",
      "D            62667 non-null int64\n",
      "Z            62667 non-null int64\n",
      "dtypes: int64(7), object(1)\n",
      "memory usage: 4.3+ MB\n",
      "None\n"
     ]
    },
    {
     "data": {
      "text/html": [
       "<div>\n",
       "<style scoped>\n",
       "    .dataframe tbody tr th:only-of-type {\n",
       "        vertical-align: middle;\n",
       "    }\n",
       "\n",
       "    .dataframe tbody tr th {\n",
       "        vertical-align: top;\n",
       "    }\n",
       "\n",
       "    .dataframe thead th {\n",
       "        text-align: right;\n",
       "    }\n",
       "</style>\n",
       "<table border=\"1\" class=\"dataframe\">\n",
       "  <thead>\n",
       "    <tr style=\"text-align: right;\">\n",
       "      <th></th>\n",
       "      <th>filenames</th>\n",
       "      <th>A</th>\n",
       "      <th>E</th>\n",
       "      <th>M</th>\n",
       "      <th>P</th>\n",
       "      <th>C</th>\n",
       "      <th>D</th>\n",
       "      <th>Z</th>\n",
       "    </tr>\n",
       "  </thead>\n",
       "  <tbody>\n",
       "    <tr>\n",
       "      <th>0</th>\n",
       "      <td>frames/20091023_dpy-31_3_L2/1.jpg</td>\n",
       "      <td>0</td>\n",
       "      <td>0</td>\n",
       "      <td>0</td>\n",
       "      <td>0</td>\n",
       "      <td>0</td>\n",
       "      <td>0</td>\n",
       "      <td>0</td>\n",
       "    </tr>\n",
       "    <tr>\n",
       "      <th>1</th>\n",
       "      <td>frames/20091023_dpy-31_3_L2/2.jpg</td>\n",
       "      <td>0</td>\n",
       "      <td>0</td>\n",
       "      <td>0</td>\n",
       "      <td>0</td>\n",
       "      <td>0</td>\n",
       "      <td>0</td>\n",
       "      <td>0</td>\n",
       "    </tr>\n",
       "    <tr>\n",
       "      <th>2</th>\n",
       "      <td>frames/20091023_dpy-31_3_L2/3.jpg</td>\n",
       "      <td>2</td>\n",
       "      <td>0</td>\n",
       "      <td>0</td>\n",
       "      <td>0</td>\n",
       "      <td>0</td>\n",
       "      <td>0</td>\n",
       "      <td>0</td>\n",
       "    </tr>\n",
       "    <tr>\n",
       "      <th>3</th>\n",
       "      <td>frames/20091023_dpy-31_3_L2/4.jpg</td>\n",
       "      <td>2</td>\n",
       "      <td>0</td>\n",
       "      <td>0</td>\n",
       "      <td>0</td>\n",
       "      <td>0</td>\n",
       "      <td>0</td>\n",
       "      <td>0</td>\n",
       "    </tr>\n",
       "    <tr>\n",
       "      <th>4</th>\n",
       "      <td>frames/20091023_dpy-31_3_L2/5.jpg</td>\n",
       "      <td>2</td>\n",
       "      <td>0</td>\n",
       "      <td>0</td>\n",
       "      <td>0</td>\n",
       "      <td>0</td>\n",
       "      <td>0</td>\n",
       "      <td>0</td>\n",
       "    </tr>\n",
       "  </tbody>\n",
       "</table>\n",
       "</div>"
      ],
      "text/plain": [
       "                           filenames  A  E  M  P  C  D  Z\n",
       "0  frames/20091023_dpy-31_3_L2/1.jpg  0  0  0  0  0  0  0\n",
       "1  frames/20091023_dpy-31_3_L2/2.jpg  0  0  0  0  0  0  0\n",
       "2  frames/20091023_dpy-31_3_L2/3.jpg  2  0  0  0  0  0  0\n",
       "3  frames/20091023_dpy-31_3_L2/4.jpg  2  0  0  0  0  0  0\n",
       "4  frames/20091023_dpy-31_3_L2/5.jpg  2  0  0  0  0  0  0"
      ]
     },
     "execution_count": 10,
     "metadata": {},
     "output_type": "execute_result"
    }
   ],
   "source": [
    "final_df = pd.concat(dfs, axis = 0, sort = False)\n",
    "print(final_df.info())\n",
    "final_df.head()"
   ]
  },
  {
   "cell_type": "code",
   "execution_count": 11,
   "metadata": {},
   "outputs": [],
   "source": [
    "final_df.to_csv(\"data/training_data.csv\", index = False)"
   ]
  },
  {
   "cell_type": "code",
   "execution_count": null,
   "metadata": {},
   "outputs": [],
   "source": [
    "!zip -r frames_raw.zip frames/"
   ]
  }
 ],
 "metadata": {
  "kernelspec": {
   "display_name": "Python 3",
   "language": "python",
   "name": "python3"
  },
  "language_info": {
   "codemirror_mode": {
    "name": "ipython",
    "version": 3
   },
   "file_extension": ".py",
   "mimetype": "text/x-python",
   "name": "python",
   "nbconvert_exporter": "python",
   "pygments_lexer": "ipython3",
   "version": "3.7.3"
  }
 },
 "nbformat": 4,
 "nbformat_minor": 4
}
